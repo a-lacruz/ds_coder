{
 "cells": [
  {
   "cell_type": "markdown",
   "metadata": {
    "colab_type": "text",
    "id": "view-in-github"
   },
   "source": [
    "<a href=\"https://colab.research.google.com/github/Xukay101/curso-data-science/blob/main/proyecto_final/Proyecto_Final_Flores.ipynb\" target=\"_parent\"><img src=\"https://colab.research.google.com/assets/colab-badge.svg\" alt=\"Open In Colab\"/></a>"
   ]
  },
  {
   "cell_type": "markdown",
   "metadata": {
    "id": "CXD4axTp0TOa"
   },
   "source": [
    "# **1. Proyecto Final: Análisis de datos; Fidelización de clientes en empresa de telecomunicaciones\"**\n",
    "\n",
    "--- \n",
    "\n",
    "## Descripción\n",
    "\n",
    "Predecir la pérdida de clientes es fundamental para que las empresas de telecomunicaciones puedan retener clientes de forma eficaz. Es más costoso adquirir nuevos clientes que retener a los existentes. Por este motivo, las grandes corporaciones de telecomunicaciones buscan desarrollar modelos para predecir qué clientes tienen más probabilidades de cambiar y tomar medidas en consecuencia.\n",
    "\n",
    "En este proyecto, construimos un modelo para predecir la probabilidad de que un cliente abandone analizando sus características: (**1**) **información demográfica**, (**2**) **información de la cuenta** y (**3**) **información de los servicios**. El objetivo es obtener una solución basada en datos que permita reducir las tasas de abandono (**churn rate en ingles**) y, como consecuencia, aumentar la satisfacción del cliente y los ingresos de la empresa.\n",
    "\n",
    "\n",
    "---\n",
    "\n",
    "## Audiencia\n",
    "\n",
    "Este proyecto está dirigido a cualquier persona interesada en aprender técnicas de análisis de datos y modelado predictivo. También podría ser útil para gerentes de empresas de servicios interesados en identificar los factores que influyen en la tasa de abandono de los clientes.\n",
    "\n",
    "---\n",
    "\n",
    "## Preguntas/Problema que buscamos resolver\n",
    "\n",
    "El objetivo principal de este proyecto es desarrollar un modelo predictivo para identificar los clientes que tienen más probabilidades de abandonar la empresa de telecomunicaciones. Algunas preguntas específicas que buscamos responder son:\n",
    "\n",
    "- ¿Cuáles son los factores que influyen en la tasa de abandono de los clientes?\n",
    "- ¿Hay alguna relación entre la duración del contrato y la tasa de abandono?\n",
    "- ¿Cómo afecta el tipo de servicio contratado a la tasa de abandono?\n",
    "- ¿Qué tan precisos son los modelos de predicción para identificar a los clientes con mayor probabilidad de abandonar?\n",
    "\n",
    "Para responder a estas preguntas, se realizará un análisis exploratorio de datos, se creará un modelo predictivo utilizando técnicas de aprendizaje automático y se evaluará su precisión. Además, se utilizarán técnicas de optimización de hiperparámetros para mejorar la precisión del modelo. Finalmente, se seleccionará el mejor modelo y se presentarán recomendaciones para reducir la tasa de abandono de los clientes. "
   ]
  },
  {
   "cell_type": "markdown",
   "metadata": {
    "id": "heNwjrO0-HOs"
   },
   "source": [
    "# **2. Importación de datos y librerias**"
   ]
  },
  {
   "cell_type": "code",
   "execution_count": 41,
   "metadata": {
    "id": "gWo8sSSS-i39"
   },
   "outputs": [],
   "source": [
    "# Imports de bibliotecas para manipulación de datos y visualización\n",
    "import pandas as pd\n",
    "import numpy as np\n",
    "import matplotlib.pyplot as plt\n",
    "import seaborn as sns\n",
    "\n",
    "# Imports de bibliotecas para modelado y aprendizaje automático\n",
    "from sklearn.metrics import mutual_info_score\n",
    "from sklearn.preprocessing import LabelEncoder\n",
    "from sklearn.preprocessing import MinMaxScaler\n",
    "from sklearn.model_selection import train_test_split\n",
    "from sklearn.dummy import DummyClassifier\n",
    "from sklearn.neighbors import KNeighborsClassifier\n",
    "from sklearn.linear_model import LogisticRegression\n",
    "from sklearn.ensemble import RandomForestClassifier\n",
    "from sklearn.svm import SVC\n",
    "from sklearn.ensemble import GradientBoostingClassifier\n",
    "from sklearn.model_selection import KFold, cross_val_score\n",
    "from sklearn.model_selection import RandomizedSearchCV\n",
    "from sklearn.ensemble import VotingClassifier\n",
    "from sklearn.metrics import classification_report\n",
    "from sklearn.metrics import accuracy_score, precision_score, recall_score, f1_score, confusion_matrix, roc_curve, auc\n",
    "from sklearn.metrics import roc_auc_score"
   ]
  },
  {
   "cell_type": "markdown",
   "metadata": {},
   "source": [
    "## Conjunto de datos\n",
    "\n",
    "El conjunto de datos utilizado en este artículo está disponible en Kaggle y consta de 21 columnas (variables independientes) que indican las características de los clientes de una ficticia corporación de telecomunicaciones. La columna de Churn (variable objetivo) indica si el cliente termino su contrato no. La clase `No` incluye a los clientes que no abandonaron la empresa el mes pasado, mientras que la clase `Sí` contiene a los clientes que decidieron terminar sus relaciones con la empresa. El objetivo del análisis es obtener **la relación entre las características del cliente y el abandono**."
   ]
  },
  {
   "cell_type": "markdown",
   "metadata": {},
   "source": [
    "## Lectura e importacion de datos\n",
    "\n",
    "La primera etapa del análisis consiste en leer y almacenar los datos en un dataframe de Pandas utilizando la función `pandas.read_csv`.\n"
   ]
  },
  {
   "cell_type": "code",
   "execution_count": 2,
   "metadata": {
    "colab": {
     "base_uri": "https://localhost:8080/",
     "height": 0
    },
    "id": "8ynwWDhe9e4R",
    "outputId": "e1987907-72b8-40af-edfd-9ae85321e968"
   },
   "outputs": [
    {
     "data": {
      "text/html": [
       "<div>\n",
       "<style scoped>\n",
       "    .dataframe tbody tr th:only-of-type {\n",
       "        vertical-align: middle;\n",
       "    }\n",
       "\n",
       "    .dataframe tbody tr th {\n",
       "        vertical-align: top;\n",
       "    }\n",
       "\n",
       "    .dataframe thead th {\n",
       "        text-align: right;\n",
       "    }\n",
       "</style>\n",
       "<table border=\"1\" class=\"dataframe\">\n",
       "  <thead>\n",
       "    <tr style=\"text-align: right;\">\n",
       "      <th></th>\n",
       "      <th>customerID</th>\n",
       "      <th>gender</th>\n",
       "      <th>SeniorCitizen</th>\n",
       "      <th>Partner</th>\n",
       "      <th>Dependents</th>\n",
       "      <th>tenure</th>\n",
       "      <th>PhoneService</th>\n",
       "      <th>MultipleLines</th>\n",
       "      <th>InternetService</th>\n",
       "      <th>OnlineSecurity</th>\n",
       "      <th>...</th>\n",
       "      <th>DeviceProtection</th>\n",
       "      <th>TechSupport</th>\n",
       "      <th>StreamingTV</th>\n",
       "      <th>StreamingMovies</th>\n",
       "      <th>Contract</th>\n",
       "      <th>PaperlessBilling</th>\n",
       "      <th>PaymentMethod</th>\n",
       "      <th>MonthlyCharges</th>\n",
       "      <th>TotalCharges</th>\n",
       "      <th>Churn</th>\n",
       "    </tr>\n",
       "  </thead>\n",
       "  <tbody>\n",
       "    <tr>\n",
       "      <th>0</th>\n",
       "      <td>7590-VHVEG</td>\n",
       "      <td>Female</td>\n",
       "      <td>0</td>\n",
       "      <td>Yes</td>\n",
       "      <td>No</td>\n",
       "      <td>1</td>\n",
       "      <td>No</td>\n",
       "      <td>No phone service</td>\n",
       "      <td>DSL</td>\n",
       "      <td>No</td>\n",
       "      <td>...</td>\n",
       "      <td>No</td>\n",
       "      <td>No</td>\n",
       "      <td>No</td>\n",
       "      <td>No</td>\n",
       "      <td>Month-to-month</td>\n",
       "      <td>Yes</td>\n",
       "      <td>Electronic check</td>\n",
       "      <td>29.85</td>\n",
       "      <td>29.85</td>\n",
       "      <td>No</td>\n",
       "    </tr>\n",
       "    <tr>\n",
       "      <th>1</th>\n",
       "      <td>5575-GNVDE</td>\n",
       "      <td>Male</td>\n",
       "      <td>0</td>\n",
       "      <td>No</td>\n",
       "      <td>No</td>\n",
       "      <td>34</td>\n",
       "      <td>Yes</td>\n",
       "      <td>No</td>\n",
       "      <td>DSL</td>\n",
       "      <td>Yes</td>\n",
       "      <td>...</td>\n",
       "      <td>Yes</td>\n",
       "      <td>No</td>\n",
       "      <td>No</td>\n",
       "      <td>No</td>\n",
       "      <td>One year</td>\n",
       "      <td>No</td>\n",
       "      <td>Mailed check</td>\n",
       "      <td>56.95</td>\n",
       "      <td>1889.5</td>\n",
       "      <td>No</td>\n",
       "    </tr>\n",
       "    <tr>\n",
       "      <th>2</th>\n",
       "      <td>3668-QPYBK</td>\n",
       "      <td>Male</td>\n",
       "      <td>0</td>\n",
       "      <td>No</td>\n",
       "      <td>No</td>\n",
       "      <td>2</td>\n",
       "      <td>Yes</td>\n",
       "      <td>No</td>\n",
       "      <td>DSL</td>\n",
       "      <td>Yes</td>\n",
       "      <td>...</td>\n",
       "      <td>No</td>\n",
       "      <td>No</td>\n",
       "      <td>No</td>\n",
       "      <td>No</td>\n",
       "      <td>Month-to-month</td>\n",
       "      <td>Yes</td>\n",
       "      <td>Mailed check</td>\n",
       "      <td>53.85</td>\n",
       "      <td>108.15</td>\n",
       "      <td>Yes</td>\n",
       "    </tr>\n",
       "    <tr>\n",
       "      <th>3</th>\n",
       "      <td>7795-CFOCW</td>\n",
       "      <td>Male</td>\n",
       "      <td>0</td>\n",
       "      <td>No</td>\n",
       "      <td>No</td>\n",
       "      <td>45</td>\n",
       "      <td>No</td>\n",
       "      <td>No phone service</td>\n",
       "      <td>DSL</td>\n",
       "      <td>Yes</td>\n",
       "      <td>...</td>\n",
       "      <td>Yes</td>\n",
       "      <td>Yes</td>\n",
       "      <td>No</td>\n",
       "      <td>No</td>\n",
       "      <td>One year</td>\n",
       "      <td>No</td>\n",
       "      <td>Bank transfer (automatic)</td>\n",
       "      <td>42.30</td>\n",
       "      <td>1840.75</td>\n",
       "      <td>No</td>\n",
       "    </tr>\n",
       "    <tr>\n",
       "      <th>4</th>\n",
       "      <td>9237-HQITU</td>\n",
       "      <td>Female</td>\n",
       "      <td>0</td>\n",
       "      <td>No</td>\n",
       "      <td>No</td>\n",
       "      <td>2</td>\n",
       "      <td>Yes</td>\n",
       "      <td>No</td>\n",
       "      <td>Fiber optic</td>\n",
       "      <td>No</td>\n",
       "      <td>...</td>\n",
       "      <td>No</td>\n",
       "      <td>No</td>\n",
       "      <td>No</td>\n",
       "      <td>No</td>\n",
       "      <td>Month-to-month</td>\n",
       "      <td>Yes</td>\n",
       "      <td>Electronic check</td>\n",
       "      <td>70.70</td>\n",
       "      <td>151.65</td>\n",
       "      <td>Yes</td>\n",
       "    </tr>\n",
       "  </tbody>\n",
       "</table>\n",
       "<p>5 rows × 21 columns</p>\n",
       "</div>"
      ],
      "text/plain": [
       "   customerID  gender  SeniorCitizen Partner Dependents  tenure PhoneService  \\\n",
       "0  7590-VHVEG  Female              0     Yes         No       1           No   \n",
       "1  5575-GNVDE    Male              0      No         No      34          Yes   \n",
       "2  3668-QPYBK    Male              0      No         No       2          Yes   \n",
       "3  7795-CFOCW    Male              0      No         No      45           No   \n",
       "4  9237-HQITU  Female              0      No         No       2          Yes   \n",
       "\n",
       "      MultipleLines InternetService OnlineSecurity  ... DeviceProtection  \\\n",
       "0  No phone service             DSL             No  ...               No   \n",
       "1                No             DSL            Yes  ...              Yes   \n",
       "2                No             DSL            Yes  ...               No   \n",
       "3  No phone service             DSL            Yes  ...              Yes   \n",
       "4                No     Fiber optic             No  ...               No   \n",
       "\n",
       "  TechSupport StreamingTV StreamingMovies        Contract PaperlessBilling  \\\n",
       "0          No          No              No  Month-to-month              Yes   \n",
       "1          No          No              No        One year               No   \n",
       "2          No          No              No  Month-to-month              Yes   \n",
       "3         Yes          No              No        One year               No   \n",
       "4          No          No              No  Month-to-month              Yes   \n",
       "\n",
       "               PaymentMethod MonthlyCharges  TotalCharges Churn  \n",
       "0           Electronic check          29.85         29.85    No  \n",
       "1               Mailed check          56.95        1889.5    No  \n",
       "2               Mailed check          53.85        108.15   Yes  \n",
       "3  Bank transfer (automatic)          42.30       1840.75    No  \n",
       "4           Electronic check          70.70        151.65   Yes  \n",
       "\n",
       "[5 rows x 21 columns]"
      ]
     },
     "execution_count": 2,
     "metadata": {},
     "output_type": "execute_result"
    }
   ],
   "source": [
    "# Importación de datos\n",
    "df = pd.read_csv('https://raw.githubusercontent.com/a-lacruz/ds_coder/main/Telco-Customer-Churn.csv')\n",
    "df.head()"
   ]
  },
  {
   "cell_type": "code",
   "execution_count": 3,
   "metadata": {},
   "outputs": [
    {
     "name": "stdout",
     "output_type": "stream",
     "text": [
      "\n",
      "Nombres de las variables: \n",
      " Index(['customerID', 'gender', 'SeniorCitizen', 'Partner', 'Dependents',\n",
      "       'tenure', 'PhoneService', 'MultipleLines', 'InternetService',\n",
      "       'OnlineSecurity', 'OnlineBackup', 'DeviceProtection', 'TechSupport',\n",
      "       'StreamingTV', 'StreamingMovies', 'Contract', 'PaperlessBilling',\n",
      "       'PaymentMethod', 'MonthlyCharges', 'TotalCharges', 'Churn'],\n",
      "      dtype='object')\n",
      "\n",
      "Frecuencia de valores únicos de Columna: customerID - Valores: ['7590-VHVEG' '5575-GNVDE' '3668-QPYBK' ... '4801-JZAZL' '8361-LTMKD'\n",
      " '3186-AJIEK']\n",
      "\n",
      "Frecuencia de valores únicos de Columna: gender - Valores: ['Female' 'Male']\n",
      "\n",
      "Frecuencia de valores únicos de Columna: SeniorCitizen - Valores: [0 1]\n",
      "\n",
      "Frecuencia de valores únicos de Columna: Partner - Valores: ['Yes' 'No']\n",
      "\n",
      "Frecuencia de valores únicos de Columna: Dependents - Valores: ['No' 'Yes']\n",
      "\n",
      "Frecuencia de valores únicos de Columna: tenure - Valores: [ 1 34  2 45  8 22 10 28 62 13 16 58 49 25 69 52 71 21 12 30 47 72 17 27\n",
      "  5 46 11 70 63 43 15 60 18 66  9  3 31 50 64 56  7 42 35 48 29 65 38 68\n",
      " 32 55 37 36 41  6  4 33 67 23 57 61 14 20 53 40 59 24 44 19 54 51 26  0\n",
      " 39]\n",
      "\n",
      "Frecuencia de valores únicos de Columna: PhoneService - Valores: ['No' 'Yes']\n",
      "\n",
      "Frecuencia de valores únicos de Columna: MultipleLines - Valores: ['No phone service' 'No' 'Yes']\n",
      "\n",
      "Frecuencia de valores únicos de Columna: InternetService - Valores: ['DSL' 'Fiber optic' 'No']\n",
      "\n",
      "Frecuencia de valores únicos de Columna: OnlineSecurity - Valores: ['No' 'Yes' 'No internet service']\n",
      "\n",
      "Frecuencia de valores únicos de Columna: OnlineBackup - Valores: ['Yes' 'No' 'No internet service']\n",
      "\n",
      "Frecuencia de valores únicos de Columna: DeviceProtection - Valores: ['No' 'Yes' 'No internet service']\n",
      "\n",
      "Frecuencia de valores únicos de Columna: TechSupport - Valores: ['No' 'Yes' 'No internet service']\n",
      "\n",
      "Frecuencia de valores únicos de Columna: StreamingTV - Valores: ['No' 'Yes' 'No internet service']\n",
      "\n",
      "Frecuencia de valores únicos de Columna: StreamingMovies - Valores: ['No' 'Yes' 'No internet service']\n",
      "\n",
      "Frecuencia de valores únicos de Columna: Contract - Valores: ['Month-to-month' 'One year' 'Two year']\n",
      "\n",
      "Frecuencia de valores únicos de Columna: PaperlessBilling - Valores: ['Yes' 'No']\n",
      "\n",
      "Frecuencia de valores únicos de Columna: PaymentMethod - Valores: ['Electronic check' 'Mailed check' 'Bank transfer (automatic)'\n",
      " 'Credit card (automatic)']\n",
      "\n",
      "Frecuencia de valores únicos de Columna: MonthlyCharges - Valores: [29.85 56.95 53.85 ... 63.1  44.2  78.7 ]\n",
      "\n",
      "Frecuencia de valores únicos de Columna: TotalCharges - Valores: ['29.85' '1889.5' '108.15' ... '346.45' '306.6' '6844.5']\n",
      "\n",
      "Frecuencia de valores únicos de Columna: Churn - Valores: ['No' 'Yes']\n"
     ]
    }
   ],
   "source": [
    "# Nombres de las variables\n",
    "print(\"\\nNombres de las variables: \\n\", df.columns)\n",
    "\n",
    "# Valores únicos en las variables categóricas\n",
    "for column in df.columns:\n",
    "    print(\"\\nFrecuencia de valores únicos de\",'Columna: {} - Valores: {}'.format(column, df[column].unique()))"
   ]
  },
  {
   "cell_type": "markdown",
   "metadata": {
    "id": "Q4ZSj10y804T"
   },
   "source": [
    "# **3. Análisis Exploratorio de Datos (EDA)**"
   ]
  },
  {
   "cell_type": "markdown",
   "metadata": {},
   "source": [
    "El análisis exploratorio de datos consiste en analizar las principales características de un conjunto de datos normalmente mediante métodos de visualización y estadísticas resumidas. El objetivo es comprender los datos, descubrir patrones y anomalías y comprobar las suposiciones antes de realizar más evaluaciones."
   ]
  },
  {
   "cell_type": "markdown",
   "metadata": {
    "id": "WefgLx8ULH4b"
   },
   "source": [
    "Las variables del conjunto son las siguientes y como se indicaba previamente, se divide en tres grupos:\n",
    "\n",
    "**(1) Informacion Demografica**\n",
    "\n",
    "- `gender`: género del cliente.\n",
    "\n",
    "- `SeniorCitizen`: indica si el cliente es un adulto mayor o no.\n",
    "\n",
    "- `Partner`: indica si el cliente tiene una pareja o no.\n",
    "\n",
    "- `Dependents`: indica si el cliente tiene dependientes o no.\n",
    "\n",
    "**(2) Informacion de cuenta del cliente**\n",
    "\n",
    "- `tenure`: indica la cantidad de meses que el cliente ha sido cliente de la empresa.\n",
    "\n",
    "- `Contract`: indica el tipo de contrato que tiene el cliente (Month-to-month, One year, Two year).\n",
    "\n",
    "- `PaperlessBilling`: indica si el cliente recibe facturas electrónicas o no.\n",
    "\n",
    "- `PaymentMethod`: indica el método de pago que utiliza el cliente (Electronic check, Mailed check, Bank transfer (automatic), Credit card (automatic)).\n",
    "\n",
    "- `MonthlyCharges`: indica la cantidad que el cliente paga cada mes.\n",
    "\n",
    "- `TotalCharges`: indica la cantidad total que el cliente ha pagado hasta la fecha.\n",
    "\n",
    "**(3) Informacion de servicios**\n",
    "\n",
    "- `PhoneService`: indica si el cliente tiene servicio telefónico o no.\n",
    "\n",
    "- `MultipleLines`: indica si el cliente tiene múltiples líneas o no.\n",
    "\n",
    "- `InternetService`: indica el tipo de servicio de Internet que tiene el cliente (DSL, Fiber optic, None).\n",
    "\n",
    "- `OnlineSecurity`: indica si el cliente tiene seguridad en línea o no.\n",
    "\n",
    "- `OnlineBackup`: indica si el cliente tiene backup en línea o no.\n",
    "\n",
    "- `DeviceProtection`: indica si el cliente tiene protección de dispositivo o no.\n",
    "\n",
    "- `TechSupport`: indica si el cliente tiene soporte técnico o no.\n",
    "\n",
    "- `StreamingTV`: indica si el cliente tiene servicio de transmisión de televisión o no.\n",
    "\n",
    "- `StreamingMovies`: indica si el cliente tiene servicio de transmisión de películas o no."
   ]
  },
  {
   "cell_type": "markdown",
   "metadata": {
    "id": "Vb9pwAG409UP"
   },
   "source": [
    "## 3.1 Información general sobre el conjunto de datos"
   ]
  },
  {
   "cell_type": "markdown",
   "metadata": {},
   "source": [
    "En esta etapa, queremos conocer tanta informacion como sea posible acerca de la base de datos, aqui es donde metodos como `pandas.DataFrame.info` son utiles. Este metodo imprime un resumen informativo sobre la BBDD que incluye informacion como los nombres de las columnas y sus tipos de datos, la cantidad de valores non-null entre otros."
   ]
  },
  {
   "cell_type": "code",
   "execution_count": 4,
   "metadata": {
    "colab": {
     "base_uri": "https://localhost:8080/"
    },
    "id": "upxlIcetIz_S",
    "outputId": "084f4624-994a-4967-c1e8-85e70cc57fd4"
   },
   "outputs": [
    {
     "name": "stdout",
     "output_type": "stream",
     "text": [
      "<class 'pandas.core.frame.DataFrame'>\n",
      "RangeIndex: 7043 entries, 0 to 7042\n",
      "Data columns (total 21 columns):\n",
      " #   Column            Non-Null Count  Dtype  \n",
      "---  ------            --------------  -----  \n",
      " 0   customerID        7043 non-null   object \n",
      " 1   gender            7043 non-null   object \n",
      " 2   SeniorCitizen     7043 non-null   int64  \n",
      " 3   Partner           7043 non-null   object \n",
      " 4   Dependents        7043 non-null   object \n",
      " 5   tenure            7043 non-null   int64  \n",
      " 6   PhoneService      7043 non-null   object \n",
      " 7   MultipleLines     7043 non-null   object \n",
      " 8   InternetService   7043 non-null   object \n",
      " 9   OnlineSecurity    7043 non-null   object \n",
      " 10  OnlineBackup      7043 non-null   object \n",
      " 11  DeviceProtection  7043 non-null   object \n",
      " 12  TechSupport       7043 non-null   object \n",
      " 13  StreamingTV       7043 non-null   object \n",
      " 14  StreamingMovies   7043 non-null   object \n",
      " 15  Contract          7043 non-null   object \n",
      " 16  PaperlessBilling  7043 non-null   object \n",
      " 17  PaymentMethod     7043 non-null   object \n",
      " 18  MonthlyCharges    7043 non-null   float64\n",
      " 19  TotalCharges      7043 non-null   object \n",
      " 20  Churn             7043 non-null   object \n",
      "dtypes: float64(1), int64(2), object(18)\n",
      "memory usage: 1.1+ MB\n",
      "Resumen Dataset:  None\n",
      "\n",
      "Frecuencia de valores únicos de customerID\n",
      "customerID\n",
      "7590-VHVEG    1\n",
      "3791-LGQCY    1\n",
      "6008-NAIXK    1\n",
      "5956-YHHRX    1\n",
      "5365-LLFYV    1\n",
      "             ..\n",
      "9796-MVYXX    1\n",
      "2637-FKFSY    1\n",
      "1552-AAGRX    1\n",
      "4304-TSPVK    1\n",
      "3186-AJIEK    1\n",
      "Name: count, Length: 7043, dtype: int64\n",
      "\n",
      "Frecuencia de valores únicos de gender\n",
      "gender\n",
      "Male      3555\n",
      "Female    3488\n",
      "Name: count, dtype: int64\n",
      "\n",
      "Frecuencia de valores únicos de Partner\n",
      "Partner\n",
      "No     3641\n",
      "Yes    3402\n",
      "Name: count, dtype: int64\n",
      "\n",
      "Frecuencia de valores únicos de Dependents\n",
      "Dependents\n",
      "No     4933\n",
      "Yes    2110\n",
      "Name: count, dtype: int64\n",
      "\n",
      "Frecuencia de valores únicos de PhoneService\n",
      "PhoneService\n",
      "Yes    6361\n",
      "No      682\n",
      "Name: count, dtype: int64\n",
      "\n",
      "Frecuencia de valores únicos de MultipleLines\n",
      "MultipleLines\n",
      "No                  3390\n",
      "Yes                 2971\n",
      "No phone service     682\n",
      "Name: count, dtype: int64\n",
      "\n",
      "Frecuencia de valores únicos de InternetService\n",
      "InternetService\n",
      "Fiber optic    3096\n",
      "DSL            2421\n",
      "No             1526\n",
      "Name: count, dtype: int64\n",
      "\n",
      "Frecuencia de valores únicos de OnlineSecurity\n",
      "OnlineSecurity\n",
      "No                     3498\n",
      "Yes                    2019\n",
      "No internet service    1526\n",
      "Name: count, dtype: int64\n",
      "\n",
      "Frecuencia de valores únicos de OnlineBackup\n",
      "OnlineBackup\n",
      "No                     3088\n",
      "Yes                    2429\n",
      "No internet service    1526\n",
      "Name: count, dtype: int64\n",
      "\n",
      "Frecuencia de valores únicos de DeviceProtection\n",
      "DeviceProtection\n",
      "No                     3095\n",
      "Yes                    2422\n",
      "No internet service    1526\n",
      "Name: count, dtype: int64\n",
      "\n",
      "Frecuencia de valores únicos de TechSupport\n",
      "TechSupport\n",
      "No                     3473\n",
      "Yes                    2044\n",
      "No internet service    1526\n",
      "Name: count, dtype: int64\n",
      "\n",
      "Frecuencia de valores únicos de StreamingTV\n",
      "StreamingTV\n",
      "No                     2810\n",
      "Yes                    2707\n",
      "No internet service    1526\n",
      "Name: count, dtype: int64\n",
      "\n",
      "Frecuencia de valores únicos de StreamingMovies\n",
      "StreamingMovies\n",
      "No                     2785\n",
      "Yes                    2732\n",
      "No internet service    1526\n",
      "Name: count, dtype: int64\n",
      "\n",
      "Frecuencia de valores únicos de Contract\n",
      "Contract\n",
      "Month-to-month    3875\n",
      "Two year          1695\n",
      "One year          1473\n",
      "Name: count, dtype: int64\n",
      "\n",
      "Frecuencia de valores únicos de PaperlessBilling\n",
      "PaperlessBilling\n",
      "Yes    4171\n",
      "No     2872\n",
      "Name: count, dtype: int64\n",
      "\n",
      "Frecuencia de valores únicos de PaymentMethod\n",
      "PaymentMethod\n",
      "Electronic check             2365\n",
      "Mailed check                 1612\n",
      "Bank transfer (automatic)    1544\n",
      "Credit card (automatic)      1522\n",
      "Name: count, dtype: int64\n",
      "\n",
      "Frecuencia de valores únicos de TotalCharges\n",
      "TotalCharges\n",
      "          11\n",
      "20.2      11\n",
      "19.75      9\n",
      "20.05      8\n",
      "19.9       8\n",
      "          ..\n",
      "6849.4     1\n",
      "692.35     1\n",
      "130.15     1\n",
      "3211.9     1\n",
      "6844.5     1\n",
      "Name: count, Length: 6531, dtype: int64\n",
      "\n",
      "Frecuencia de valores únicos de Churn\n",
      "Churn\n",
      "No     5174\n",
      "Yes    1869\n",
      "Name: count, dtype: int64\n"
     ]
    }
   ],
   "source": [
    "# Sumario de la base de datos\n",
    "print(\"Resumen Dataset: \", df.info())\n",
    "\n",
    "# Frecuencia de valores únicos en las variables categóricas\n",
    "for col in df.select_dtypes(include=['object']).columns:\n",
    "    print(\"\\nFrecuencia de valores únicos de\", col)\n",
    "    print(df[col].value_counts())"
   ]
  },
  {
   "cell_type": "markdown",
   "metadata": {},
   "source": [
    "Como se muestra arriba, el conjunto de datos contiene 7043 observaciones y 21 columnas. Aparentemente, no hay valores nulos en el conjunto de datos; sin embargo, observamos que la columna `TotalCharges` fue detectada erróneamente como un **objeto**. Esta columna representa el importe total cobrado al cliente y es, por tanto, una variable numérica. Para un análisis más detallado, necesitamos transformar esta columna en un tipo de datos numérico. Para hacerlo, podemos usar la función `pd.to_numeric`. "
   ]
  },
  {
   "cell_type": "markdown",
   "metadata": {},
   "source": [
    "## 3.2 Transformacion y limpieza de datos"
   ]
  },
  {
   "cell_type": "code",
   "execution_count": 5,
   "metadata": {},
   "outputs": [],
   "source": [
    "# Transformando la columna \"TotalCharges\" en datos numericos\n",
    "df['TotalCharges'] = pd.to_numeric(df['TotalCharges'], errors='coerce')"
   ]
  },
  {
   "cell_type": "markdown",
   "metadata": {},
   "source": [
    "De forma predeterminada, esta función genera una excepción cuando ve datos no numéricos; sin embargo, usamos el argumento errores='coerce' para omitir esos casos y reemplazarlos con un NaN."
   ]
  },
  {
   "cell_type": "code",
   "execution_count": 6,
   "metadata": {},
   "outputs": [
    {
     "data": {
      "text/html": [
       "<div>\n",
       "<style scoped>\n",
       "    .dataframe tbody tr th:only-of-type {\n",
       "        vertical-align: middle;\n",
       "    }\n",
       "\n",
       "    .dataframe tbody tr th {\n",
       "        vertical-align: top;\n",
       "    }\n",
       "\n",
       "    .dataframe thead th {\n",
       "        text-align: right;\n",
       "    }\n",
       "</style>\n",
       "<table border=\"1\" class=\"dataframe\">\n",
       "  <thead>\n",
       "    <tr style=\"text-align: right;\">\n",
       "      <th></th>\n",
       "      <th>customerID</th>\n",
       "      <th>gender</th>\n",
       "      <th>SeniorCitizen</th>\n",
       "      <th>Partner</th>\n",
       "      <th>Dependents</th>\n",
       "      <th>tenure</th>\n",
       "      <th>PhoneService</th>\n",
       "      <th>MultipleLines</th>\n",
       "      <th>InternetService</th>\n",
       "      <th>OnlineSecurity</th>\n",
       "      <th>...</th>\n",
       "      <th>DeviceProtection</th>\n",
       "      <th>TechSupport</th>\n",
       "      <th>StreamingTV</th>\n",
       "      <th>StreamingMovies</th>\n",
       "      <th>Contract</th>\n",
       "      <th>PaperlessBilling</th>\n",
       "      <th>PaymentMethod</th>\n",
       "      <th>MonthlyCharges</th>\n",
       "      <th>TotalCharges</th>\n",
       "      <th>Churn</th>\n",
       "    </tr>\n",
       "  </thead>\n",
       "  <tbody>\n",
       "    <tr>\n",
       "      <th>488</th>\n",
       "      <td>4472-LVYGI</td>\n",
       "      <td>Female</td>\n",
       "      <td>0</td>\n",
       "      <td>Yes</td>\n",
       "      <td>Yes</td>\n",
       "      <td>0</td>\n",
       "      <td>No</td>\n",
       "      <td>No phone service</td>\n",
       "      <td>DSL</td>\n",
       "      <td>Yes</td>\n",
       "      <td>...</td>\n",
       "      <td>Yes</td>\n",
       "      <td>Yes</td>\n",
       "      <td>Yes</td>\n",
       "      <td>No</td>\n",
       "      <td>Two year</td>\n",
       "      <td>Yes</td>\n",
       "      <td>Bank transfer (automatic)</td>\n",
       "      <td>52.55</td>\n",
       "      <td>NaN</td>\n",
       "      <td>No</td>\n",
       "    </tr>\n",
       "    <tr>\n",
       "      <th>753</th>\n",
       "      <td>3115-CZMZD</td>\n",
       "      <td>Male</td>\n",
       "      <td>0</td>\n",
       "      <td>No</td>\n",
       "      <td>Yes</td>\n",
       "      <td>0</td>\n",
       "      <td>Yes</td>\n",
       "      <td>No</td>\n",
       "      <td>No</td>\n",
       "      <td>No internet service</td>\n",
       "      <td>...</td>\n",
       "      <td>No internet service</td>\n",
       "      <td>No internet service</td>\n",
       "      <td>No internet service</td>\n",
       "      <td>No internet service</td>\n",
       "      <td>Two year</td>\n",
       "      <td>No</td>\n",
       "      <td>Mailed check</td>\n",
       "      <td>20.25</td>\n",
       "      <td>NaN</td>\n",
       "      <td>No</td>\n",
       "    </tr>\n",
       "    <tr>\n",
       "      <th>936</th>\n",
       "      <td>5709-LVOEQ</td>\n",
       "      <td>Female</td>\n",
       "      <td>0</td>\n",
       "      <td>Yes</td>\n",
       "      <td>Yes</td>\n",
       "      <td>0</td>\n",
       "      <td>Yes</td>\n",
       "      <td>No</td>\n",
       "      <td>DSL</td>\n",
       "      <td>Yes</td>\n",
       "      <td>...</td>\n",
       "      <td>Yes</td>\n",
       "      <td>No</td>\n",
       "      <td>Yes</td>\n",
       "      <td>Yes</td>\n",
       "      <td>Two year</td>\n",
       "      <td>No</td>\n",
       "      <td>Mailed check</td>\n",
       "      <td>80.85</td>\n",
       "      <td>NaN</td>\n",
       "      <td>No</td>\n",
       "    </tr>\n",
       "    <tr>\n",
       "      <th>1082</th>\n",
       "      <td>4367-NUYAO</td>\n",
       "      <td>Male</td>\n",
       "      <td>0</td>\n",
       "      <td>Yes</td>\n",
       "      <td>Yes</td>\n",
       "      <td>0</td>\n",
       "      <td>Yes</td>\n",
       "      <td>Yes</td>\n",
       "      <td>No</td>\n",
       "      <td>No internet service</td>\n",
       "      <td>...</td>\n",
       "      <td>No internet service</td>\n",
       "      <td>No internet service</td>\n",
       "      <td>No internet service</td>\n",
       "      <td>No internet service</td>\n",
       "      <td>Two year</td>\n",
       "      <td>No</td>\n",
       "      <td>Mailed check</td>\n",
       "      <td>25.75</td>\n",
       "      <td>NaN</td>\n",
       "      <td>No</td>\n",
       "    </tr>\n",
       "    <tr>\n",
       "      <th>1340</th>\n",
       "      <td>1371-DWPAZ</td>\n",
       "      <td>Female</td>\n",
       "      <td>0</td>\n",
       "      <td>Yes</td>\n",
       "      <td>Yes</td>\n",
       "      <td>0</td>\n",
       "      <td>No</td>\n",
       "      <td>No phone service</td>\n",
       "      <td>DSL</td>\n",
       "      <td>Yes</td>\n",
       "      <td>...</td>\n",
       "      <td>Yes</td>\n",
       "      <td>Yes</td>\n",
       "      <td>Yes</td>\n",
       "      <td>No</td>\n",
       "      <td>Two year</td>\n",
       "      <td>No</td>\n",
       "      <td>Credit card (automatic)</td>\n",
       "      <td>56.05</td>\n",
       "      <td>NaN</td>\n",
       "      <td>No</td>\n",
       "    </tr>\n",
       "    <tr>\n",
       "      <th>3331</th>\n",
       "      <td>7644-OMVMY</td>\n",
       "      <td>Male</td>\n",
       "      <td>0</td>\n",
       "      <td>Yes</td>\n",
       "      <td>Yes</td>\n",
       "      <td>0</td>\n",
       "      <td>Yes</td>\n",
       "      <td>No</td>\n",
       "      <td>No</td>\n",
       "      <td>No internet service</td>\n",
       "      <td>...</td>\n",
       "      <td>No internet service</td>\n",
       "      <td>No internet service</td>\n",
       "      <td>No internet service</td>\n",
       "      <td>No internet service</td>\n",
       "      <td>Two year</td>\n",
       "      <td>No</td>\n",
       "      <td>Mailed check</td>\n",
       "      <td>19.85</td>\n",
       "      <td>NaN</td>\n",
       "      <td>No</td>\n",
       "    </tr>\n",
       "    <tr>\n",
       "      <th>3826</th>\n",
       "      <td>3213-VVOLG</td>\n",
       "      <td>Male</td>\n",
       "      <td>0</td>\n",
       "      <td>Yes</td>\n",
       "      <td>Yes</td>\n",
       "      <td>0</td>\n",
       "      <td>Yes</td>\n",
       "      <td>Yes</td>\n",
       "      <td>No</td>\n",
       "      <td>No internet service</td>\n",
       "      <td>...</td>\n",
       "      <td>No internet service</td>\n",
       "      <td>No internet service</td>\n",
       "      <td>No internet service</td>\n",
       "      <td>No internet service</td>\n",
       "      <td>Two year</td>\n",
       "      <td>No</td>\n",
       "      <td>Mailed check</td>\n",
       "      <td>25.35</td>\n",
       "      <td>NaN</td>\n",
       "      <td>No</td>\n",
       "    </tr>\n",
       "    <tr>\n",
       "      <th>4380</th>\n",
       "      <td>2520-SGTTA</td>\n",
       "      <td>Female</td>\n",
       "      <td>0</td>\n",
       "      <td>Yes</td>\n",
       "      <td>Yes</td>\n",
       "      <td>0</td>\n",
       "      <td>Yes</td>\n",
       "      <td>No</td>\n",
       "      <td>No</td>\n",
       "      <td>No internet service</td>\n",
       "      <td>...</td>\n",
       "      <td>No internet service</td>\n",
       "      <td>No internet service</td>\n",
       "      <td>No internet service</td>\n",
       "      <td>No internet service</td>\n",
       "      <td>Two year</td>\n",
       "      <td>No</td>\n",
       "      <td>Mailed check</td>\n",
       "      <td>20.00</td>\n",
       "      <td>NaN</td>\n",
       "      <td>No</td>\n",
       "    </tr>\n",
       "    <tr>\n",
       "      <th>5218</th>\n",
       "      <td>2923-ARZLG</td>\n",
       "      <td>Male</td>\n",
       "      <td>0</td>\n",
       "      <td>Yes</td>\n",
       "      <td>Yes</td>\n",
       "      <td>0</td>\n",
       "      <td>Yes</td>\n",
       "      <td>No</td>\n",
       "      <td>No</td>\n",
       "      <td>No internet service</td>\n",
       "      <td>...</td>\n",
       "      <td>No internet service</td>\n",
       "      <td>No internet service</td>\n",
       "      <td>No internet service</td>\n",
       "      <td>No internet service</td>\n",
       "      <td>One year</td>\n",
       "      <td>Yes</td>\n",
       "      <td>Mailed check</td>\n",
       "      <td>19.70</td>\n",
       "      <td>NaN</td>\n",
       "      <td>No</td>\n",
       "    </tr>\n",
       "    <tr>\n",
       "      <th>6670</th>\n",
       "      <td>4075-WKNIU</td>\n",
       "      <td>Female</td>\n",
       "      <td>0</td>\n",
       "      <td>Yes</td>\n",
       "      <td>Yes</td>\n",
       "      <td>0</td>\n",
       "      <td>Yes</td>\n",
       "      <td>Yes</td>\n",
       "      <td>DSL</td>\n",
       "      <td>No</td>\n",
       "      <td>...</td>\n",
       "      <td>Yes</td>\n",
       "      <td>Yes</td>\n",
       "      <td>Yes</td>\n",
       "      <td>No</td>\n",
       "      <td>Two year</td>\n",
       "      <td>No</td>\n",
       "      <td>Mailed check</td>\n",
       "      <td>73.35</td>\n",
       "      <td>NaN</td>\n",
       "      <td>No</td>\n",
       "    </tr>\n",
       "    <tr>\n",
       "      <th>6754</th>\n",
       "      <td>2775-SEFEE</td>\n",
       "      <td>Male</td>\n",
       "      <td>0</td>\n",
       "      <td>No</td>\n",
       "      <td>Yes</td>\n",
       "      <td>0</td>\n",
       "      <td>Yes</td>\n",
       "      <td>Yes</td>\n",
       "      <td>DSL</td>\n",
       "      <td>Yes</td>\n",
       "      <td>...</td>\n",
       "      <td>No</td>\n",
       "      <td>Yes</td>\n",
       "      <td>No</td>\n",
       "      <td>No</td>\n",
       "      <td>Two year</td>\n",
       "      <td>Yes</td>\n",
       "      <td>Bank transfer (automatic)</td>\n",
       "      <td>61.90</td>\n",
       "      <td>NaN</td>\n",
       "      <td>No</td>\n",
       "    </tr>\n",
       "  </tbody>\n",
       "</table>\n",
       "<p>11 rows × 21 columns</p>\n",
       "</div>"
      ],
      "text/plain": [
       "      customerID  gender  SeniorCitizen Partner Dependents  tenure  \\\n",
       "488   4472-LVYGI  Female              0     Yes        Yes       0   \n",
       "753   3115-CZMZD    Male              0      No        Yes       0   \n",
       "936   5709-LVOEQ  Female              0     Yes        Yes       0   \n",
       "1082  4367-NUYAO    Male              0     Yes        Yes       0   \n",
       "1340  1371-DWPAZ  Female              0     Yes        Yes       0   \n",
       "3331  7644-OMVMY    Male              0     Yes        Yes       0   \n",
       "3826  3213-VVOLG    Male              0     Yes        Yes       0   \n",
       "4380  2520-SGTTA  Female              0     Yes        Yes       0   \n",
       "5218  2923-ARZLG    Male              0     Yes        Yes       0   \n",
       "6670  4075-WKNIU  Female              0     Yes        Yes       0   \n",
       "6754  2775-SEFEE    Male              0      No        Yes       0   \n",
       "\n",
       "     PhoneService     MultipleLines InternetService       OnlineSecurity  ...  \\\n",
       "488            No  No phone service             DSL                  Yes  ...   \n",
       "753           Yes                No              No  No internet service  ...   \n",
       "936           Yes                No             DSL                  Yes  ...   \n",
       "1082          Yes               Yes              No  No internet service  ...   \n",
       "1340           No  No phone service             DSL                  Yes  ...   \n",
       "3331          Yes                No              No  No internet service  ...   \n",
       "3826          Yes               Yes              No  No internet service  ...   \n",
       "4380          Yes                No              No  No internet service  ...   \n",
       "5218          Yes                No              No  No internet service  ...   \n",
       "6670          Yes               Yes             DSL                   No  ...   \n",
       "6754          Yes               Yes             DSL                  Yes  ...   \n",
       "\n",
       "         DeviceProtection          TechSupport          StreamingTV  \\\n",
       "488                   Yes                  Yes                  Yes   \n",
       "753   No internet service  No internet service  No internet service   \n",
       "936                   Yes                   No                  Yes   \n",
       "1082  No internet service  No internet service  No internet service   \n",
       "1340                  Yes                  Yes                  Yes   \n",
       "3331  No internet service  No internet service  No internet service   \n",
       "3826  No internet service  No internet service  No internet service   \n",
       "4380  No internet service  No internet service  No internet service   \n",
       "5218  No internet service  No internet service  No internet service   \n",
       "6670                  Yes                  Yes                  Yes   \n",
       "6754                   No                  Yes                   No   \n",
       "\n",
       "          StreamingMovies  Contract PaperlessBilling  \\\n",
       "488                    No  Two year              Yes   \n",
       "753   No internet service  Two year               No   \n",
       "936                   Yes  Two year               No   \n",
       "1082  No internet service  Two year               No   \n",
       "1340                   No  Two year               No   \n",
       "3331  No internet service  Two year               No   \n",
       "3826  No internet service  Two year               No   \n",
       "4380  No internet service  Two year               No   \n",
       "5218  No internet service  One year              Yes   \n",
       "6670                   No  Two year               No   \n",
       "6754                   No  Two year              Yes   \n",
       "\n",
       "                  PaymentMethod MonthlyCharges  TotalCharges  Churn  \n",
       "488   Bank transfer (automatic)          52.55           NaN     No  \n",
       "753                Mailed check          20.25           NaN     No  \n",
       "936                Mailed check          80.85           NaN     No  \n",
       "1082               Mailed check          25.75           NaN     No  \n",
       "1340    Credit card (automatic)          56.05           NaN     No  \n",
       "3331               Mailed check          19.85           NaN     No  \n",
       "3826               Mailed check          25.35           NaN     No  \n",
       "4380               Mailed check          20.00           NaN     No  \n",
       "5218               Mailed check          19.70           NaN     No  \n",
       "6670               Mailed check          73.35           NaN     No  \n",
       "6754  Bank transfer (automatic)          61.90           NaN     No  \n",
       "\n",
       "[11 rows x 21 columns]"
      ]
     },
     "execution_count": 6,
     "metadata": {},
     "output_type": "execute_result"
    }
   ],
   "source": [
    "# Verificamos si tenemos valores nulos despues de la transformacion\n",
    "df[df['TotalCharges'].isnull()]"
   ]
  },
  {
   "cell_type": "markdown",
   "metadata": {},
   "source": [
    "Vemos que ahora la columna `TotalCharges` tiene 11 valores nulos. Estas observaciones también tienen un `tenure` de 0, aunque `MontlyCharges` no es nulo para estas entradas. Esta información parecía contradictoria y, por lo tanto, decidí eliminar esas filas del conjunto de datos."
   ]
  },
  {
   "cell_type": "code",
   "execution_count": 7,
   "metadata": {},
   "outputs": [],
   "source": [
    "# Eliminar filas con valores nulos\n",
    "df.dropna(inplace=True)"
   ]
  },
  {
   "cell_type": "code",
   "execution_count": 8,
   "metadata": {},
   "outputs": [],
   "source": [
    "# Remover la columna \"customerID\"\n",
    "df.drop(columns='customerID', inplace=True)"
   ]
  },
  {
   "cell_type": "markdown",
   "metadata": {},
   "source": [
    "La columna `customerID` es inútil para explicar si el cliente abandonará. Por lo tanto, eliminamos esta columna del conjunto de datos."
   ]
  },
  {
   "cell_type": "code",
   "execution_count": 9,
   "metadata": {},
   "outputs": [],
   "source": [
    "# Remover la palabra (automatic) de los nombres en los metodos de pago\n",
    "df['PaymentMethod'] = df['PaymentMethod'].str.replace(' (automatic)', '', regex=False)"
   ]
  },
  {
   "cell_type": "markdown",
   "metadata": {},
   "source": [
    "Como tambien vimos arriba, algunas denominaciones de métodos de pago contienen entre paréntesis la palabra **automatic**. Estas denominaciones son demasiado largas para usarse como etiquetas en visualizaciones posteriores. Por lo tanto, eliminamos esta aclaración entre paréntesis de las entradas de la columna `PaymentMethod`."
   ]
  },
  {
   "cell_type": "code",
   "execution_count": 10,
   "metadata": {},
   "outputs": [
    {
     "data": {
      "text/plain": [
       "array(['Electronic check', 'Mailed check', 'Bank transfer', 'Credit card'],\n",
       "      dtype=object)"
      ]
     },
     "execution_count": 10,
     "metadata": {},
     "output_type": "execute_result"
    }
   ],
   "source": [
    "# Verificamos el resultado de la modificacion previa\n",
    "df.PaymentMethod.unique()"
   ]
  },
  {
   "cell_type": "code",
   "execution_count": 11,
   "metadata": {},
   "outputs": [
    {
     "name": "stdout",
     "output_type": "stream",
     "text": [
      "<class 'pandas.core.frame.DataFrame'>\n",
      "Index: 7032 entries, 0 to 7042\n",
      "Data columns (total 20 columns):\n",
      " #   Column            Non-Null Count  Dtype  \n",
      "---  ------            --------------  -----  \n",
      " 0   gender            7032 non-null   object \n",
      " 1   SeniorCitizen     7032 non-null   int64  \n",
      " 2   Partner           7032 non-null   object \n",
      " 3   Dependents        7032 non-null   object \n",
      " 4   tenure            7032 non-null   int64  \n",
      " 5   PhoneService      7032 non-null   object \n",
      " 6   MultipleLines     7032 non-null   object \n",
      " 7   InternetService   7032 non-null   object \n",
      " 8   OnlineSecurity    7032 non-null   object \n",
      " 9   OnlineBackup      7032 non-null   object \n",
      " 10  DeviceProtection  7032 non-null   object \n",
      " 11  TechSupport       7032 non-null   object \n",
      " 12  StreamingTV       7032 non-null   object \n",
      " 13  StreamingMovies   7032 non-null   object \n",
      " 14  Contract          7032 non-null   object \n",
      " 15  PaperlessBilling  7032 non-null   object \n",
      " 16  PaymentMethod     7032 non-null   object \n",
      " 17  MonthlyCharges    7032 non-null   float64\n",
      " 18  TotalCharges      7032 non-null   float64\n",
      " 19  Churn             7032 non-null   object \n",
      "dtypes: float64(2), int64(2), object(16)\n",
      "memory usage: 1.1+ MB\n"
     ]
    }
   ],
   "source": [
    "# resumen del dataset(2)\n",
    "df.info()"
   ]
  },
  {
   "cell_type": "markdown",
   "metadata": {},
   "source": [
    "Observamos que luego de las anteriores modificaciones en la BBDD, tenemos que la columna `TotalCharges`ahora es detectada como un valor numerico y no posee valores nulos, asi como tambien fue eliminada la columna `customerID`."
   ]
  },
  {
   "cell_type": "markdown",
   "metadata": {
    "id": "tXzWW-VFX_sI"
   },
   "source": [
    "## 3.3 Visualizaciones"
   ]
  },
  {
   "cell_type": "markdown",
   "metadata": {},
   "source": [
    "## Relación entre las variables categóricas y la tasa de abandono"
   ]
  },
  {
   "cell_type": "code",
   "execution_count": 12,
   "metadata": {},
   "outputs": [
    {
     "data": {
      "image/png": "[encoded data removed]",
      "text/plain": [
       "<Figure size 1000x600 with 1 Axes>"
      ]
     },
     "metadata": {},
     "output_type": "display_data"
    }
   ],
   "source": [
    "# Calcular la proporción de observaciones de la variable objetivo \"Churn\" en porcentaje\n",
    "churn_proportions = df['Churn'].value_counts(normalize=True) * 100\n",
    "# Graficar la proporción de observaciones de la variable objetivo \"Churn\" en porcentaje\n",
    "plt.figure(figsize=(10, 6))\n",
    "sns.barplot(x=churn_proportions.index, y=churn_proportions.values, palette='pastel')\n",
    "plt.text(0, churn_proportions[0] + 2, f'{churn_proportions[0]:.2f}%', ha='center')\n",
    "plt.text(1, churn_proportions[1] + 2, f'{churn_proportions[1]:.2f}%', ha='center')\n",
    "plt.title('Proporción de Observaciones en la Variable Objetivo')\n",
    "plt.xlabel('Abandonó')\n",
    "plt.ylabel('Porcentaje de Clientes (%)')\n",
    "plt.ylim(0, 100)\n",
    "plt.show()"
   ]
  },
  {
   "cell_type": "markdown",
   "metadata": {},
   "source": [
    "El anterior gráfico de barras muestra el porcentaje de observaciones que corresponden a cada clase de la variable objetivo \"churn\": `si` y `no`. Se observa que tenemos un conjunto de datos desequilibrado porque ambas clases no están distribuidas equitativamente entre todas las observaciones, siendo el `No` la clase mayoritaria (73,42%). A la hora de modelar, este desequilibrio dará lugar a un gran número de falsos negativos, como veremos más adelante."
   ]
  },
  {
   "cell_type": "code",
   "execution_count": 13,
   "metadata": {},
   "outputs": [
    {
     "data": {
      "image/png": "[encoded data removed]",
      "text/plain": [
       "<Figure size 1200x1000 with 4 Axes>"
      ]
     },
     "metadata": {},
     "output_type": "display_data"
    }
   ],
   "source": [
    "# Lista de atributos demográficos\n",
    "demographic_attributes = ['gender', 'SeniorCitizen', 'Partner', 'Dependents']\n",
    "\n",
    "# Crear subplots con una matriz de 2x2\n",
    "fig, axes = plt.subplots(nrows=2, ncols=2, figsize=(12, 10))\n",
    "\n",
    "# Iterar sobre los atributos demográficos y sus respectivos ejes\n",
    "for attribute, ax in zip(demographic_attributes, axes.flatten()):\n",
    "    # Calcular la proporción de Churn para cada categoría del atributo demográfico\n",
    "    proportions = df.groupby(attribute)['Churn'].value_counts(normalize=True).unstack().fillna(0) * 100\n",
    "    \n",
    "    # Mostrar el gráfico de barras apiladas en el eje actual\n",
    "    proportions.plot(kind='bar', stacked=True, color=['springgreen', 'salmon'], ax=ax)\n",
    "    \n",
    "    # Ajustar etiquetas y títulos\n",
    "    ax.set_title(f'Porcentaje de Abandono para {attribute.capitalize()}')\n",
    "    ax.set_xlabel(attribute.capitalize())\n",
    "    ax.set_ylabel('Porcentaje de Abandono')\n",
    "    ax.legend(title='Churn', labels=['No', 'Sí'], loc='upper right')\n",
    "    ax.tick_params(axis='x', rotation=0)  # Rotar etiquetas del eje x si es necesario\n",
    "\n",
    "plt.tight_layout()  # Ajustar el diseño para evitar solapamientos\n",
    "plt.show()"
   ]
  },
  {
   "cell_type": "markdown",
   "metadata": {},
   "source": [
    "Podemos extraer las siguientes conclusiones analizando los atributos demográficos:\n",
    "\n",
    "- La tasa de abandono de las personas mayores es casi el doble que la de los jóvenes.\n",
    "- No esperamos que el género tenga un poder predictivo significativo. Un porcentaje similar de abandono se muestra tanto cuando un cliente es hombre como si es mujer.\n",
    "- Los clientes con pareja abandonan menos que los que no la tienen.\n",
    "- La tasa de abandono de los clientes con familiares, es casi el doble de los que no tienen."
   ]
  },
  {
   "cell_type": "code",
   "execution_count": 14,
   "metadata": {},
   "outputs": [
    {
     "data": {
      "image/png": "[encoded data removed]",
      "text/plain": [
       "<Figure size 1600x800 with 3 Axes>"
      ]
     },
     "metadata": {},
     "output_type": "display_data"
    }
   ],
   "source": [
    "# Lista de atributos de información de la cuenta del cliente\n",
    "account_info_attributes = ['Contract', 'PaperlessBilling', 'PaymentMethod']\n",
    "\n",
    "# Crear subplots con una matriz de 2x2\n",
    "fig, axes = plt.subplots(nrows=1, ncols=3, figsize=(16, 8))\n",
    "\n",
    "# Iterar sobre los atributos de información de la cuenta y sus respectivos ejes\n",
    "for attribute, ax in zip(account_info_attributes, axes.flatten()):\n",
    "    # Calcular la proporción de Churn para cada categoría del atributo de información de la cuenta\n",
    "    proportions = df.groupby(attribute)['Churn'].value_counts(normalize=True).unstack().fillna(0) * 100\n",
    "    \n",
    "    # Mostrar el gráfico de barras apiladas en el eje actual\n",
    "    proportions.plot(kind='bar', stacked=True, color=['springgreen', 'salmon'], ax=ax)\n",
    "    \n",
    "    # Ajustar etiquetas y títulos\n",
    "    ax.set_title(f'Porcentaje de Abandono para {attribute}')\n",
    "    ax.set_xlabel(attribute)\n",
    "    ax.set_ylabel('Porcentaje de Abandono')\n",
    "    ax.legend(title='Churn', labels=['No', 'Sí'], loc='upper right')\n",
    "    ax.tick_params(axis='x', rotation=0)  # Rotar etiquetas del eje x si es necesario\n",
    "\n",
    "plt.tight_layout()  # Ajustar el diseño para evitar solapamientos\n",
    "plt.show()"
   ]
  },
  {
   "cell_type": "markdown",
   "metadata": {},
   "source": [
    "Analizando los atributos de cuenta cliente podemos deducir que:\n",
    "\n",
    "- Los clientes con contratos de mes a mes tienen tasas de abandono más altas en comparación con los clientes con contratos anuales.\n",
    "- Los clientes que optaron por un cheque electrónico como método de pago tienen más probabilidades de abandonar su contrato.\n",
    "- Los clientes suscritos a la facturación electrónica abandonan más que los que no lo están."
   ]
  },
  {
   "cell_type": "code",
   "execution_count": 15,
   "metadata": {},
   "outputs": [
    {
     "data": {
      "image/png": "[encoded data removed]",
      "text/plain": [
       "<Figure size 1800x1600 with 9 Axes>"
      ]
     },
     "metadata": {},
     "output_type": "display_data"
    }
   ],
   "source": [
    "# Lista de atributos relacionados con los servicios contratados por el cliente\n",
    "service_attributes = ['PhoneService', 'MultipleLines', 'InternetService', \n",
    "                      'OnlineSecurity', 'OnlineBackup', 'DeviceProtection', \n",
    "                      'TechSupport', 'StreamingTV', 'StreamingMovies']\n",
    "\n",
    "# Crear subplots con una matriz de 3x3\n",
    "fig, axes = plt.subplots(nrows=3, ncols=3, figsize=(18, 16))\n",
    "\n",
    "# Iterar sobre los atributos de servicios y sus respectivos ejes\n",
    "for attribute, ax in zip(service_attributes, axes.flatten()):\n",
    "    # Calcular la proporción de Churn para cada categoría del atributo de servicios\n",
    "    proportions = df.groupby(attribute)['Churn'].value_counts(normalize=True).unstack().fillna(0) * 100\n",
    "    \n",
    "    # Mostrar el gráfico de barras apiladas en el eje actual\n",
    "    proportions.plot(kind='bar', stacked=True, color=['springgreen', 'salmon'], ax=ax)\n",
    "    \n",
    "    # Ajustar etiquetas y títulos\n",
    "    ax.set_title(f'Porcentaje de Abandono para {attribute}')\n",
    "    ax.set_xlabel(attribute)\n",
    "    ax.set_ylabel('Porcentaje de Abandono')\n",
    "    ax.legend(title='Churn', labels=['No', 'Sí'], loc='upper right')\n",
    "    ax.tick_params(axis='x', rotation=0)  # Rotar etiquetas del eje x si es necesario\n",
    "\n",
    "plt.tight_layout()  # Ajustar el diseño para evitar solapamientos\n",
    "plt.show()"
   ]
  },
  {
   "cell_type": "markdown",
   "metadata": {},
   "source": [
    "Podemos extraer las siguientes conclusiones evaluando los atributos relacionados con los servicios contratados:\n",
    "\n",
    "- No esperamos que los atributos `PhoneService` y `MultipleLines`tengan un poder predictivo significativo. El porcentaje de abandono de todas las clases en ambas variables es casi el mismo.\n",
    "- Los clientes con `OnlineSecurity` abandonan menos que aquellos que no la tienen.\n",
    "- Los clientes sin `TechSupport` tienden a abandonar con más frecuencia que aquellos con soporte técnico."
   ]
  },
  {
   "cell_type": "markdown",
   "metadata": {
    "id": "X7J81OvycNRG"
   },
   "source": [
    "## Relación entre las variables numéricas y la tasa de abandono"
   ]
  },
  {
   "cell_type": "code",
   "execution_count": 16,
   "metadata": {},
   "outputs": [
    {
     "data": {
      "image/png": "[encoded data removed]",
      "text/plain": [
       "<Figure size 1200x1000 with 4 Axes>"
      ]
     },
     "metadata": {},
     "output_type": "display_data"
    }
   ],
   "source": [
    "import math\n",
    "# Definir las columnas para crear histogramas\n",
    "columns_to_plot = ['tenure', 'MonthlyCharges', 'TotalCharges']\n",
    "# Super título de la visualización\n",
    "super_title = 'Relacion entre variables numericas y tasa de abandono'\n",
    "\n",
    "# Definir el número de columnas y filas para subplots\n",
    "number_of_columns = 2\n",
    "number_of_rows = math.ceil(len(columns_to_plot) / number_of_columns)\n",
    "\n",
    "# Crear la figura\n",
    "fig, axes = plt.subplots(nrows=number_of_rows, ncols=number_of_columns, figsize=(12, 5 * number_of_rows)) \n",
    "fig.suptitle(super_title, fontsize=18, y=0.98)\n",
    "\n",
    "# Iterar sobre las columnas de interés y sus respectivos ejes\n",
    "for index, column in enumerate(columns_to_plot):\n",
    "    # Calcular las coordenadas del subplot actual\n",
    "    row_index = index // number_of_columns\n",
    "    col_index = index % number_of_columns\n",
    "    \n",
    "    # Histogramas para cada clase (normalizado)\n",
    "    df[df['Churn']=='No'][column].plot(kind='hist', ax=axes[row_index, col_index], density=True, alpha=0.5, color='springgreen', label='No')\n",
    "    df[df['Churn']=='Yes'][column].plot(kind='hist', ax=axes[row_index, col_index], density=True, alpha=0.5, color='salmon', label='Yes')\n",
    "    \n",
    "    # Ajustar leyendas y títulos\n",
    "    axes[row_index, col_index].legend(loc='upper right', bbox_to_anchor=(0.5, 0.5, 0.5, 0.5), title='Churn', fancybox=True)\n",
    "    axes[row_index, col_index].set_title('Relacion de ' + column + ' vs abandono', fontsize=12, loc='center')\n",
    "    axes[row_index, col_index].tick_params(rotation='auto')\n",
    "\n",
    "    # Eliminar el borde del gráfico\n",
    "    spine_names = ('top', 'right', 'bottom', 'left')\n",
    "    for spine_name in spine_names:\n",
    "        axes[row_index, col_index].spines[spine_name].set_visible(False)\n",
    "        \n",
    "# Eliminar ejes y marco para la posición 2-2\n",
    "axes[1, 1].axis('off')\n",
    "\n",
    "# Ajustar diseño para evitar solapamientos\n",
    "plt.tight_layout()\n",
    "plt.show()\n"
   ]
  },
  {
   "cell_type": "markdown",
   "metadata": {},
   "source": [
    "Podemos extraer las siguientes conclusiones analizando los histogramas anteriores:\n",
    "\n",
    "- La tasa de abandono tiende a ser mayor cuando los cargos mensuales son altos.\n",
    "- Los nuevos clientes (tenure = low) tienen más probabilidades de abandonar.\n",
    "- Los clientes con cargos totales elevados tienen menos probabilidades de abandonar la empresa."
   ]
  },
  {
   "cell_type": "markdown",
   "metadata": {
    "id": "458D8e2rm5tR"
   },
   "source": [
    "## 3.4 Análisis específicos para responder a las preguntas de investigación"
   ]
  },
  {
   "cell_type": "markdown",
   "metadata": {
    "id": "-nl5qRayqxXM"
   },
   "source": [
    "Luego de realizar un análisis exhaustivo de los datos, se pueden identificar varios factores que influyen en la tasa de abandono de los clientes. En primer lugar, la duración del contrato parece ser un factor clave, ya que los clientes con contratos más cortos tienen una tasa de abandono significativamente mayor que los clientes con contratos más largos. Otro factor importante es el tipo de servicio contratado, donde los clientes que contratan servicios de Internet de fibra óptica tienen una tasa de abandono más alta en comparación con los clientes que contratan servicios de DSL o sin conexión a Internet.\n",
    "\n",
    "También se puede observar que los clientes que tienen servicios de seguridad en línea como \"OnlineSecurity\" o \"DeviceProtection\" tienen una tasa de abandono más baja que los clientes que no tienen estos servicios. Además, los clientes que utilizan servicios de pago electrónicos como \"Electronic check\" tienen una tasa de abandono más alta que los clientes que utilizan otros métodos de pago."
   ]
  },
  {
   "cell_type": "markdown",
   "metadata": {
    "id": "ueGr7MGGnZsk"
   },
   "source": [
    "### Pregunta: ¿Hay alguna relación entre la duración del contrato y la tasa de abandono?"
   ]
  },
  {
   "cell_type": "code",
   "execution_count": 17,
   "metadata": {
    "colab": {
     "base_uri": "https://localhost:8080/",
     "height": 0
    },
    "id": "yQ1yaZvAnpbP",
    "outputId": "771984dd-ee7e-4786-a707-53e92bda672b"
   },
   "outputs": [
    {
     "data": {
      "image/png": "[encoded data removed]",
      "text/plain": [
       "<Figure size 572.125x500 with 1 Axes>"
      ]
     },
     "metadata": {},
     "output_type": "display_data"
    }
   ],
   "source": [
    "# Dataframe con tasa de abandono por cada tipo de contrato\n",
    "contract_churn = df.groupby(['Contract', 'Churn']).size().reset_index(name='counts')\n",
    "contract_churn['percent'] = contract_churn.groupby(['Contract'])['counts'].transform(lambda x: 100 * x / float(x.sum()))\n",
    "\n",
    "# Utilizando sns.catplot directamente\n",
    "sns.catplot(x='Contract', y='percent', hue='Churn', data=contract_churn, kind='bar', palette='pastel')\n",
    "plt.title('Relación entre duración del contrato y tasa de abandono', fontsize=16)\n",
    "plt.xlabel('Duración del contrato')\n",
    "plt.ylabel('Porcentaje de clientes')\n",
    "plt.show()\n"
   ]
  },
  {
   "cell_type": "markdown",
   "metadata": {},
   "source": [
    "En el grafico previo observamos que:\n",
    "\n",
    "- Los clientes con contratos de mes a mes tienen tasas de abandono más altas en comparación con los clientes con contratos anuales y multianuales."
   ]
  },
  {
   "cell_type": "markdown",
   "metadata": {
    "id": "GjRCnPYro_a4"
   },
   "source": [
    "### Pregunta: ¿Cómo afecta el tipo de servicio contratado a la tasa de abandono?"
   ]
  },
  {
   "cell_type": "code",
   "execution_count": 18,
   "metadata": {
    "colab": {
     "base_uri": "https://localhost:8080/",
     "height": 0
    },
    "id": "TkjbbrYlo86t",
    "outputId": "1f9f1dd3-4190-4d79-9f13-69e5b2ae1ff9"
   },
   "outputs": [
    {
     "data": {
      "image/png": "[encoded data removed]",
      "text/plain": [
       "<Figure size 800x600 with 1 Axes>"
      ]
     },
     "metadata": {},
     "output_type": "display_data"
    }
   ],
   "source": [
    "plt.figure(figsize=(8,6))\n",
    "sns.countplot(x='InternetService', hue='Churn', data=df, palette='pastel')\n",
    "plt.title('Tasa de abandono por tipo de servicio de internet contratado')\n",
    "plt.xlabel('Tipo de servicio de internet')\n",
    "plt.ylabel('Número de clientes')\n",
    "plt.show()"
   ]
  },
  {
   "cell_type": "markdown",
   "metadata": {
    "id": "8HtVjDQ-pzoa"
   },
   "source": [
    "Podemos observar que los clientes que contratan fibra óptica son los que tienen mayor tasa de abandono, seguidos de los clientes que tienen internet DSL. Por otro lado, los clientes que tienen internet por marcado no tienen una tasa significativamente alta de abandono.\n",
    "\n",
    "En conclusión, el tipo de servicio de internet contratado parece estar relacionado con la tasa de abandono, siendo los clientes que contratan fibra óptica los que tienen mayor probabilidad de abandonar el servicio. "
   ]
  },
  {
   "cell_type": "markdown",
   "metadata": {
    "id": "StjAStszqu75"
   },
   "source": [
    "### Pregunta: ¿Cuáles son los factores que influyen en la tasa de abandono de los clientes?"
   ]
  },
  {
   "cell_type": "markdown",
   "metadata": {
    "id": "bKBqxVG3oyJf"
   },
   "source": [
    "Al analizar la relación entre la duración del contrato y la tasa de abandono de los clientes, se encontró que aquellos clientes con contratos a corto plazo (mes a mes) presentan una tasa de abandono significativamente más alta que aquellos con contratos a largo plazo (un año o dos años). Esta relación se mantiene incluso después de controlar por otras variables que puedan influir en la tasa de abandono.\n",
    "\n",
    "Los clientes que optan por contratos a corto plazo pueden estar buscando una mayor flexibilidad o no estar seguros de si desean seguir utilizando los servicios de la compañía. Por otro lado, aquellos que optan por contratos a largo plazo pueden estar buscando una mayor estabilidad y/o descuentos en el precio.\n",
    "\n",
    "La empresa podría considerar ofrecer descuentos adicionales a los clientes que optan por contratos a largo plazo para aumentar su lealtad y reducir su tasa de abandono. Además, se podría explorar la posibilidad de ofrecer opciones de contrato más flexibles para aquellos clientes que buscan una mayor flexibilidad en sus servicios."
   ]
  },
  {
   "cell_type": "markdown",
   "metadata": {
    "id": "b8tLn55QsEoQ"
   },
   "source": [
    "## 3.5 Informe sobre análisis de tasa de abandono de clientes"
   ]
  },
  {
   "cell_type": "markdown",
   "metadata": {
    "id": "beZxsZL9slfr"
   },
   "source": [
    "En primer lugar, se identificaron algunas características generales del conjunto de datos. Este consta de 7.043 observaciones y 20 variables, incluyendo información demográfica de los clientes, información sobre los servicios contratados, la duración del contrato, el tipo de facturación y la tasa de abandono.\n",
    "\n",
    "Se observó que la tasa de abandono en el conjunto de datos es de 26,58%. Además, se encontró que la duración media del contrato es de 32 meses, y que la mayoría de los clientes tienen facturación electrónica y servicios de telefonía fija e Internet.\n",
    "\n",
    "A continuación, se realizó un análisis de las variables categóricas. Se observó el tipo de contrato, servicios adicionales contratados inciden en la tasa de abandono.\n",
    "\n",
    "También se realizó un análisis de las variables numéricas, donde se observó que la duración del contrato y el cargo mensual tienen una relación inversa con la tasa de abandono, lo que sugiere que los clientes con contratos más largos y cargos mensuales más bajos tienden a abandonar menos la compañía.\n",
    "\n",
    "En conclusión, el análisis exploratorio de datos nos permitió identificar varios factores que influyen en la tasa de abandono de los clientes. La duración del contrato, el cargo mensual son variables importantes a considerar para la retención de clientes."
   ]
  },
  {
   "cell_type": "markdown",
   "metadata": {},
   "source": [
    "## 3.6 Importancia de las variables en relacion al objetivo"
   ]
  },
  {
   "cell_type": "markdown",
   "metadata": {},
   "source": [
    "Análisis de relaciones lineales y no lineales.\n",
    "\n",
    "**Mutual information** mide la dependencia entre dos variables basándose en estimaciones de entropía. En ML nos interesa evaluar el grado de dependencia entre cada variable independiente y la variable objetivo. Los valores más altos en este calculo muestran un mayor grado de dependencia, lo que indica que la variable independiente será útil para predecir el objetivo.\n",
    "\n",
    "La biblioteca Scikit-Learn ha implementado mutual information en el paquete de `metrics`. El siguiente código calcula la puntuación de mutual information entre cada variable categórica del conjunto de datos y la variable `churn`."
   ]
  },
  {
   "cell_type": "code",
   "execution_count": 19,
   "metadata": {},
   "outputs": [
    {
     "name": "stdout",
     "output_type": "stream",
     "text": [
      "Puntuación de Mutual information para Variables Categóricas y Churn:\n",
      "\n",
      "Contract            0.098182\n",
      "OnlineSecurity      0.064528\n",
      "TechSupport         0.062873\n",
      "InternetService     0.055394\n",
      "OnlineBackup        0.046659\n",
      "PaymentMethod       0.044423\n",
      "DeviceProtection    0.043784\n",
      "StreamingMovies     0.031918\n",
      "StreamingTV         0.031803\n",
      "PaperlessBilling    0.019119\n",
      "Dependents          0.014270\n",
      "Partner             0.011383\n",
      "MultipleLines       0.000798\n",
      "PhoneService        0.000069\n",
      "gender              0.000037\n",
      "dtype: float64\n"
     ]
    }
   ],
   "source": [
    "# función que calcula la puntuación de \"mutual information\" entre las variables categoricas y la columna Churn\n",
    "def compute_mutual_information(categorical_serie):\n",
    "    return mutual_info_score(categorical_serie, df.Churn)\n",
    "\n",
    "# seleccionar variables categóricas excluyendo la variable objetivo\n",
    "categorical_variables = df.select_dtypes(include=object).drop('Churn', axis=1)\n",
    "\n",
    "# calcular la puntuación entre cada variable categórica y el objetivo\n",
    "feature_importance = categorical_variables.apply(compute_mutual_information).sort_values(ascending=False)\n",
    "\n",
    "# visualizar el resultado\n",
    "print(\"Puntuación de Mutual information para Variables Categóricas y Churn:\\n\")\n",
    "print(feature_importance)"
   ]
  },
  {
   "cell_type": "code",
   "execution_count": 20,
   "metadata": {},
   "outputs": [
    {
     "data": {
      "image/png": "[encoded data removed]",
      "text/plain": [
       "<Figure size 1000x600 with 1 Axes>"
      ]
     },
     "metadata": {},
     "output_type": "display_data"
    }
   ],
   "source": [
    "# Graficar los resultados anteriores\n",
    "plt.figure(figsize=(10, 6))\n",
    "feature_importance.plot(kind='barh', color='skyblue')\n",
    "plt.title('Importancia de Variables')\n",
    "plt.xlabel('Puntuacion')\n",
    "plt.ylabel('Variables Categoricas')\n",
    "plt.xticks(rotation=45, ha='right')\n",
    "plt.tight_layout()\n",
    "plt.show()"
   ]
  },
  {
   "cell_type": "markdown",
   "metadata": {},
   "source": [
    "**Mutual information** nos permite no sólo comprender mejor nuestros datos sino también identificar las variables predictoras que son completamente independientes del objetivo. Como se muestra arriba, `gender`, `PhoneService` y `MultipleLines` tienen una puntuación de información mutua muy cercana a 0, lo que significa que esas variables no tienen una relación fuerte con el objetivo. Esta información está en línea con las conclusiones que hemos extraído previamente por medio de las visualizaciones. En los siguientes pasos, deberíamos considerar eliminar esas variables del conjunto de datos, ya que no proporcionan información útil para predecir el resultado."
   ]
  },
  {
   "cell_type": "markdown",
   "metadata": {
    "id": "qUtuF5GU2cSe"
   },
   "source": [
    "# **4. Ingeniería de atributos**\n",
    "\n",
    "### La ingeniería de atributos es el proceso de extraer características de los datos y transformarlas en un formato adecuado para el modelo de aprendizaje automático.\n",
    "---"
   ]
  },
  {
   "cell_type": "markdown",
   "metadata": {
    "id": "LHcioDxYTt0B"
   },
   "source": [
    "Con el análisis exploratorio de datos se identificaron las variables mas importantes para la predicción de la tasa de abandono:\n",
    "\n",
    "- `tenure`: tiempo en meses que el cliente ha estado suscrito al servicio\n",
    "- `contract`: tipo de contrato del cliente (mes a mes, contrato anual, contrato bienal)\n",
    "- `InternetService`: tipo de servicio de Internet del cliente (DSL, fibra óptica, sin servicio de Internet)\n",
    "- `PaymentMethod`: método de pago del cliente (transferencia bancaria, tarjeta de crédito, cheque electrónico, cheque en papel)\n",
    "- `MonthlyCharges`: cargos mensuales del cliente\n",
    "\n",
    "A partir de estas se pueden crear nuevas variables que podrían ser útiles:\n",
    "\n",
    "- `MonthlyCharges/Tenure`: esta relacion podría indicar la rentabilidad del cliente para la compañía.\n",
    "- `HasInternetService`: nueva variable binaria que representa si el cliente tiene o no servicio de internet. (Se juntarian clientes con DSL y fibra óptica)\n",
    "- `NumServices`: indica la cantidad de servicios adicionales que tiene cada cliente. "
   ]
  },
  {
   "cell_type": "code",
   "execution_count": 21,
   "metadata": {
    "id": "B0bAPGqiWv3h"
   },
   "outputs": [],
   "source": [
    "# Variable que calcula la relación entre el cargo mensual y la duración de la relación del cliente.\n",
    "df['MthlyCharges_Tenure_Ratio'] = df['MonthlyCharges'] / df['tenure']\n",
    "\n",
    "# Corrijo valores infinitos de la variable 'MthlyCharges_Tenure_Ratio'\n",
    "df.replace([np.inf, -np.inf], np.nan, inplace=True)\n",
    "mode_value = df['MthlyCharges_Tenure_Ratio'].mode()[0]\n",
    "df['MthlyCharges_Tenure_Ratio'].fillna(mode_value, inplace=True)\n",
    "\n",
    "# Variable que calcula la relación entre la duración de la relación del cliente y el cargo mensual.\n",
    "df['TenureMonthlyRatio'] = df['tenure'] / df['MonthlyCharges']"
   ]
  },
  {
   "cell_type": "code",
   "execution_count": 22,
   "metadata": {},
   "outputs": [
    {
     "name": "stdout",
     "output_type": "stream",
     "text": [
      "HasInternetService\n",
      "Yes    5512\n",
      "No     1520\n",
      "Name: count, dtype: int64\n"
     ]
    },
    {
     "data": {
      "text/html": [
       "<div>\n",
       "<style scoped>\n",
       "    .dataframe tbody tr th:only-of-type {\n",
       "        vertical-align: middle;\n",
       "    }\n",
       "\n",
       "    .dataframe tbody tr th {\n",
       "        vertical-align: top;\n",
       "    }\n",
       "\n",
       "    .dataframe thead th {\n",
       "        text-align: right;\n",
       "    }\n",
       "</style>\n",
       "<table border=\"1\" class=\"dataframe\">\n",
       "  <thead>\n",
       "    <tr style=\"text-align: right;\">\n",
       "      <th></th>\n",
       "      <th>gender</th>\n",
       "      <th>SeniorCitizen</th>\n",
       "      <th>Partner</th>\n",
       "      <th>Dependents</th>\n",
       "      <th>tenure</th>\n",
       "      <th>PhoneService</th>\n",
       "      <th>MultipleLines</th>\n",
       "      <th>InternetService</th>\n",
       "      <th>OnlineSecurity</th>\n",
       "      <th>OnlineBackup</th>\n",
       "      <th>...</th>\n",
       "      <th>Contract</th>\n",
       "      <th>PaperlessBilling</th>\n",
       "      <th>PaymentMethod</th>\n",
       "      <th>MonthlyCharges</th>\n",
       "      <th>TotalCharges</th>\n",
       "      <th>Churn</th>\n",
       "      <th>MthlyCharges_Tenure_Ratio</th>\n",
       "      <th>TenureMonthlyRatio</th>\n",
       "      <th>HasInternetService</th>\n",
       "      <th>NumServices</th>\n",
       "    </tr>\n",
       "  </thead>\n",
       "  <tbody>\n",
       "    <tr>\n",
       "      <th>0</th>\n",
       "      <td>Female</td>\n",
       "      <td>0</td>\n",
       "      <td>Yes</td>\n",
       "      <td>No</td>\n",
       "      <td>1</td>\n",
       "      <td>No</td>\n",
       "      <td>No phone service</td>\n",
       "      <td>DSL</td>\n",
       "      <td>No</td>\n",
       "      <td>Yes</td>\n",
       "      <td>...</td>\n",
       "      <td>Month-to-month</td>\n",
       "      <td>Yes</td>\n",
       "      <td>Electronic check</td>\n",
       "      <td>29.85</td>\n",
       "      <td>29.85</td>\n",
       "      <td>No</td>\n",
       "      <td>29.850</td>\n",
       "      <td>0.033501</td>\n",
       "      <td>Yes</td>\n",
       "      <td>2</td>\n",
       "    </tr>\n",
       "    <tr>\n",
       "      <th>1</th>\n",
       "      <td>Male</td>\n",
       "      <td>0</td>\n",
       "      <td>No</td>\n",
       "      <td>No</td>\n",
       "      <td>34</td>\n",
       "      <td>Yes</td>\n",
       "      <td>No</td>\n",
       "      <td>DSL</td>\n",
       "      <td>Yes</td>\n",
       "      <td>No</td>\n",
       "      <td>...</td>\n",
       "      <td>One year</td>\n",
       "      <td>No</td>\n",
       "      <td>Mailed check</td>\n",
       "      <td>56.95</td>\n",
       "      <td>1889.50</td>\n",
       "      <td>No</td>\n",
       "      <td>1.675</td>\n",
       "      <td>0.597015</td>\n",
       "      <td>Yes</td>\n",
       "      <td>3</td>\n",
       "    </tr>\n",
       "    <tr>\n",
       "      <th>2</th>\n",
       "      <td>Male</td>\n",
       "      <td>0</td>\n",
       "      <td>No</td>\n",
       "      <td>No</td>\n",
       "      <td>2</td>\n",
       "      <td>Yes</td>\n",
       "      <td>No</td>\n",
       "      <td>DSL</td>\n",
       "      <td>Yes</td>\n",
       "      <td>Yes</td>\n",
       "      <td>...</td>\n",
       "      <td>Month-to-month</td>\n",
       "      <td>Yes</td>\n",
       "      <td>Mailed check</td>\n",
       "      <td>53.85</td>\n",
       "      <td>108.15</td>\n",
       "      <td>Yes</td>\n",
       "      <td>26.925</td>\n",
       "      <td>0.037140</td>\n",
       "      <td>Yes</td>\n",
       "      <td>3</td>\n",
       "    </tr>\n",
       "    <tr>\n",
       "      <th>3</th>\n",
       "      <td>Male</td>\n",
       "      <td>0</td>\n",
       "      <td>No</td>\n",
       "      <td>No</td>\n",
       "      <td>45</td>\n",
       "      <td>No</td>\n",
       "      <td>No phone service</td>\n",
       "      <td>DSL</td>\n",
       "      <td>Yes</td>\n",
       "      <td>No</td>\n",
       "      <td>...</td>\n",
       "      <td>One year</td>\n",
       "      <td>No</td>\n",
       "      <td>Bank transfer</td>\n",
       "      <td>42.30</td>\n",
       "      <td>1840.75</td>\n",
       "      <td>No</td>\n",
       "      <td>0.940</td>\n",
       "      <td>1.063830</td>\n",
       "      <td>Yes</td>\n",
       "      <td>4</td>\n",
       "    </tr>\n",
       "    <tr>\n",
       "      <th>4</th>\n",
       "      <td>Female</td>\n",
       "      <td>0</td>\n",
       "      <td>No</td>\n",
       "      <td>No</td>\n",
       "      <td>2</td>\n",
       "      <td>Yes</td>\n",
       "      <td>No</td>\n",
       "      <td>Fiber optic</td>\n",
       "      <td>No</td>\n",
       "      <td>No</td>\n",
       "      <td>...</td>\n",
       "      <td>Month-to-month</td>\n",
       "      <td>Yes</td>\n",
       "      <td>Electronic check</td>\n",
       "      <td>70.70</td>\n",
       "      <td>151.65</td>\n",
       "      <td>Yes</td>\n",
       "      <td>35.350</td>\n",
       "      <td>0.028289</td>\n",
       "      <td>Yes</td>\n",
       "      <td>1</td>\n",
       "    </tr>\n",
       "  </tbody>\n",
       "</table>\n",
       "<p>5 rows × 24 columns</p>\n",
       "</div>"
      ],
      "text/plain": [
       "   gender  SeniorCitizen Partner Dependents  tenure PhoneService  \\\n",
       "0  Female              0     Yes         No       1           No   \n",
       "1    Male              0      No         No      34          Yes   \n",
       "2    Male              0      No         No       2          Yes   \n",
       "3    Male              0      No         No      45           No   \n",
       "4  Female              0      No         No       2          Yes   \n",
       "\n",
       "      MultipleLines InternetService OnlineSecurity OnlineBackup  ...  \\\n",
       "0  No phone service             DSL             No          Yes  ...   \n",
       "1                No             DSL            Yes           No  ...   \n",
       "2                No             DSL            Yes          Yes  ...   \n",
       "3  No phone service             DSL            Yes           No  ...   \n",
       "4                No     Fiber optic             No           No  ...   \n",
       "\n",
       "         Contract PaperlessBilling     PaymentMethod MonthlyCharges  \\\n",
       "0  Month-to-month              Yes  Electronic check          29.85   \n",
       "1        One year               No      Mailed check          56.95   \n",
       "2  Month-to-month              Yes      Mailed check          53.85   \n",
       "3        One year               No     Bank transfer          42.30   \n",
       "4  Month-to-month              Yes  Electronic check          70.70   \n",
       "\n",
       "  TotalCharges Churn MthlyCharges_Tenure_Ratio  TenureMonthlyRatio  \\\n",
       "0        29.85    No                    29.850            0.033501   \n",
       "1      1889.50    No                     1.675            0.597015   \n",
       "2       108.15   Yes                    26.925            0.037140   \n",
       "3      1840.75    No                     0.940            1.063830   \n",
       "4       151.65   Yes                    35.350            0.028289   \n",
       "\n",
       "   HasInternetService NumServices  \n",
       "0                 Yes           2  \n",
       "1                 Yes           3  \n",
       "2                 Yes           3  \n",
       "3                 Yes           4  \n",
       "4                 Yes           1  \n",
       "\n",
       "[5 rows x 24 columns]"
      ]
     },
     "execution_count": 22,
     "metadata": {},
     "output_type": "execute_result"
    }
   ],
   "source": [
    "# Crear la nueva variable 'HasInternetService' basada en 'InternetService'\n",
    "df['HasInternetService'] = df['InternetService'].apply(lambda x: 'Yes' if x in ['Fiber optic', 'DSL'] else 'No')\n",
    "# Verificar los valores únicos y su frecuencia en la nueva variable 'HasInternetService'\n",
    "print(df['HasInternetService'].value_counts())\n",
    "\n",
    "\n",
    "# Variable con la suma de servicios adicionales\n",
    "internet_vars = ['OnlineSecurity', 'OnlineBackup', 'DeviceProtection', 'TechSupport', 'StreamingTV', 'StreamingMovies', 'HasInternetService']\n",
    "df['NumServices'] = df[internet_vars].apply(lambda row: row.str.lower().replace({'yes': 1, 'no': 0, 'no internet service': 0}).astype(int).sum(), axis=1)\n",
    "\n",
    "df.head()"
   ]
  },
  {
   "cell_type": "markdown",
   "metadata": {},
   "source": [
    "## 4.1 Codificación de etiquetas"
   ]
  },
  {
   "cell_type": "markdown",
   "metadata": {},
   "source": [
    "La codificación de etiquetas se utiliza para reemplazar valores categóricos con valores numéricos. Esta codificación reemplaza cada categoría con una etiqueta numérica. En este proyecto, usaremos codificación de etiquetas con las siguientes variables binarias: `Partner`, `Dependents`, `PaperlessBilling`, `Churn`, `HasInternetService`. Las variables `gender`, `PhoneService` que tambien son binarias, seran eliminadas ya que como observamos en el calculo de importancia tienen casi cero relacion con la variable objetivo."
   ]
  },
  {
   "cell_type": "code",
   "execution_count": 23,
   "metadata": {},
   "outputs": [
    {
     "data": {
      "text/html": [
       "<div>\n",
       "<style scoped>\n",
       "    .dataframe tbody tr th:only-of-type {\n",
       "        vertical-align: middle;\n",
       "    }\n",
       "\n",
       "    .dataframe tbody tr th {\n",
       "        vertical-align: top;\n",
       "    }\n",
       "\n",
       "    .dataframe thead th {\n",
       "        text-align: right;\n",
       "    }\n",
       "</style>\n",
       "<table border=\"1\" class=\"dataframe\">\n",
       "  <thead>\n",
       "    <tr style=\"text-align: right;\">\n",
       "      <th></th>\n",
       "      <th>SeniorCitizen</th>\n",
       "      <th>Partner</th>\n",
       "      <th>Dependents</th>\n",
       "      <th>tenure</th>\n",
       "      <th>InternetService</th>\n",
       "      <th>OnlineSecurity</th>\n",
       "      <th>OnlineBackup</th>\n",
       "      <th>DeviceProtection</th>\n",
       "      <th>TechSupport</th>\n",
       "      <th>StreamingTV</th>\n",
       "      <th>...</th>\n",
       "      <th>Contract</th>\n",
       "      <th>PaperlessBilling</th>\n",
       "      <th>PaymentMethod</th>\n",
       "      <th>MonthlyCharges</th>\n",
       "      <th>TotalCharges</th>\n",
       "      <th>Churn</th>\n",
       "      <th>MthlyCharges_Tenure_Ratio</th>\n",
       "      <th>TenureMonthlyRatio</th>\n",
       "      <th>HasInternetService</th>\n",
       "      <th>NumServices</th>\n",
       "    </tr>\n",
       "  </thead>\n",
       "  <tbody>\n",
       "    <tr>\n",
       "      <th>0</th>\n",
       "      <td>0</td>\n",
       "      <td>1</td>\n",
       "      <td>0</td>\n",
       "      <td>1</td>\n",
       "      <td>DSL</td>\n",
       "      <td>No</td>\n",
       "      <td>Yes</td>\n",
       "      <td>No</td>\n",
       "      <td>No</td>\n",
       "      <td>No</td>\n",
       "      <td>...</td>\n",
       "      <td>Month-to-month</td>\n",
       "      <td>1</td>\n",
       "      <td>Electronic check</td>\n",
       "      <td>29.85</td>\n",
       "      <td>29.85</td>\n",
       "      <td>0</td>\n",
       "      <td>29.850</td>\n",
       "      <td>0.033501</td>\n",
       "      <td>1</td>\n",
       "      <td>2</td>\n",
       "    </tr>\n",
       "    <tr>\n",
       "      <th>1</th>\n",
       "      <td>0</td>\n",
       "      <td>0</td>\n",
       "      <td>0</td>\n",
       "      <td>34</td>\n",
       "      <td>DSL</td>\n",
       "      <td>Yes</td>\n",
       "      <td>No</td>\n",
       "      <td>Yes</td>\n",
       "      <td>No</td>\n",
       "      <td>No</td>\n",
       "      <td>...</td>\n",
       "      <td>One year</td>\n",
       "      <td>0</td>\n",
       "      <td>Mailed check</td>\n",
       "      <td>56.95</td>\n",
       "      <td>1889.50</td>\n",
       "      <td>0</td>\n",
       "      <td>1.675</td>\n",
       "      <td>0.597015</td>\n",
       "      <td>1</td>\n",
       "      <td>3</td>\n",
       "    </tr>\n",
       "    <tr>\n",
       "      <th>2</th>\n",
       "      <td>0</td>\n",
       "      <td>0</td>\n",
       "      <td>0</td>\n",
       "      <td>2</td>\n",
       "      <td>DSL</td>\n",
       "      <td>Yes</td>\n",
       "      <td>Yes</td>\n",
       "      <td>No</td>\n",
       "      <td>No</td>\n",
       "      <td>No</td>\n",
       "      <td>...</td>\n",
       "      <td>Month-to-month</td>\n",
       "      <td>1</td>\n",
       "      <td>Mailed check</td>\n",
       "      <td>53.85</td>\n",
       "      <td>108.15</td>\n",
       "      <td>1</td>\n",
       "      <td>26.925</td>\n",
       "      <td>0.037140</td>\n",
       "      <td>1</td>\n",
       "      <td>3</td>\n",
       "    </tr>\n",
       "    <tr>\n",
       "      <th>3</th>\n",
       "      <td>0</td>\n",
       "      <td>0</td>\n",
       "      <td>0</td>\n",
       "      <td>45</td>\n",
       "      <td>DSL</td>\n",
       "      <td>Yes</td>\n",
       "      <td>No</td>\n",
       "      <td>Yes</td>\n",
       "      <td>Yes</td>\n",
       "      <td>No</td>\n",
       "      <td>...</td>\n",
       "      <td>One year</td>\n",
       "      <td>0</td>\n",
       "      <td>Bank transfer</td>\n",
       "      <td>42.30</td>\n",
       "      <td>1840.75</td>\n",
       "      <td>0</td>\n",
       "      <td>0.940</td>\n",
       "      <td>1.063830</td>\n",
       "      <td>1</td>\n",
       "      <td>4</td>\n",
       "    </tr>\n",
       "    <tr>\n",
       "      <th>4</th>\n",
       "      <td>0</td>\n",
       "      <td>0</td>\n",
       "      <td>0</td>\n",
       "      <td>2</td>\n",
       "      <td>Fiber optic</td>\n",
       "      <td>No</td>\n",
       "      <td>No</td>\n",
       "      <td>No</td>\n",
       "      <td>No</td>\n",
       "      <td>No</td>\n",
       "      <td>...</td>\n",
       "      <td>Month-to-month</td>\n",
       "      <td>1</td>\n",
       "      <td>Electronic check</td>\n",
       "      <td>70.70</td>\n",
       "      <td>151.65</td>\n",
       "      <td>1</td>\n",
       "      <td>35.350</td>\n",
       "      <td>0.028289</td>\n",
       "      <td>1</td>\n",
       "      <td>1</td>\n",
       "    </tr>\n",
       "  </tbody>\n",
       "</table>\n",
       "<p>5 rows × 21 columns</p>\n",
       "</div>"
      ],
      "text/plain": [
       "   SeniorCitizen  Partner  Dependents  tenure InternetService OnlineSecurity  \\\n",
       "0              0        1           0       1             DSL             No   \n",
       "1              0        0           0      34             DSL            Yes   \n",
       "2              0        0           0       2             DSL            Yes   \n",
       "3              0        0           0      45             DSL            Yes   \n",
       "4              0        0           0       2     Fiber optic             No   \n",
       "\n",
       "  OnlineBackup DeviceProtection TechSupport StreamingTV  ...        Contract  \\\n",
       "0          Yes               No          No          No  ...  Month-to-month   \n",
       "1           No              Yes          No          No  ...        One year   \n",
       "2          Yes               No          No          No  ...  Month-to-month   \n",
       "3           No              Yes         Yes          No  ...        One year   \n",
       "4           No               No          No          No  ...  Month-to-month   \n",
       "\n",
       "  PaperlessBilling     PaymentMethod MonthlyCharges  TotalCharges  Churn  \\\n",
       "0                1  Electronic check          29.85         29.85      0   \n",
       "1                0      Mailed check          56.95       1889.50      0   \n",
       "2                1      Mailed check          53.85        108.15      1   \n",
       "3                0     Bank transfer          42.30       1840.75      0   \n",
       "4                1  Electronic check          70.70        151.65      1   \n",
       "\n",
       "   MthlyCharges_Tenure_Ratio  TenureMonthlyRatio  HasInternetService  \\\n",
       "0                     29.850            0.033501                   1   \n",
       "1                      1.675            0.597015                   1   \n",
       "2                     26.925            0.037140                   1   \n",
       "3                      0.940            1.063830                   1   \n",
       "4                     35.350            0.028289                   1   \n",
       "\n",
       "   NumServices  \n",
       "0            2  \n",
       "1            3  \n",
       "2            3  \n",
       "3            4  \n",
       "4            1  \n",
       "\n",
       "[5 rows x 21 columns]"
      ]
     },
     "execution_count": 23,
     "metadata": {},
     "output_type": "execute_result"
    }
   ],
   "source": [
    "# Creo copia del dataframe original\n",
    "df_transformed = df.copy()\n",
    "\n",
    "# Eliminar columnas con baja importancia\n",
    "low_importance_columns = ['gender', 'PhoneService', 'MultipleLines']\n",
    "df_transformed.drop(low_importance_columns, axis=1, inplace=True)\n",
    "\n",
    "# Codificación de etiquetas\n",
    "label_encoding_columns = ['Partner', 'Dependents', 'PaperlessBilling', 'Churn', 'HasInternetService']\n",
    "\n",
    "# Codificación de columnas categóricas binarias usando label encoding\n",
    "for column in label_encoding_columns:\n",
    "    df_transformed[column] = df_transformed[column].map({'Yes': 1, 'No': 0})\n",
    "\n",
    "df_transformed.head()"
   ]
  },
  {
   "cell_type": "markdown",
   "metadata": {},
   "source": [
    "## 4.2 Codificación One-Hot"
   ]
  },
  {
   "cell_type": "markdown",
   "metadata": {},
   "source": [
    "La codificación one-hot crea una nueva columna binaria para cada nivel de la variable categórica. La nueva columna contiene ceros y unos que indican la ausencia o presencia de la categoría en los datos. En este proyecto, aplicamos codificación one-hot a las siguientes variables categóricas: `Contract`, `PaymentMethod`, `OnlineSecurity`,`OnlineBackup`, `DeviceProtection`, `TechSupport`, `StreamingTV`, `StreamingMovies`. La columna `InternetService`sera eliminada, ya que se usará la nueva variable creada `HasInternetService`. "
   ]
  },
  {
   "cell_type": "code",
   "execution_count": 24,
   "metadata": {},
   "outputs": [
    {
     "data": {
      "text/html": [
       "<div>\n",
       "<style scoped>\n",
       "    .dataframe tbody tr th:only-of-type {\n",
       "        vertical-align: middle;\n",
       "    }\n",
       "\n",
       "    .dataframe tbody tr th {\n",
       "        vertical-align: top;\n",
       "    }\n",
       "\n",
       "    .dataframe thead th {\n",
       "        text-align: right;\n",
       "    }\n",
       "</style>\n",
       "<table border=\"1\" class=\"dataframe\">\n",
       "  <thead>\n",
       "    <tr style=\"text-align: right;\">\n",
       "      <th></th>\n",
       "      <th>SeniorCitizen</th>\n",
       "      <th>Partner</th>\n",
       "      <th>Dependents</th>\n",
       "      <th>tenure</th>\n",
       "      <th>PaperlessBilling</th>\n",
       "      <th>MonthlyCharges</th>\n",
       "      <th>TotalCharges</th>\n",
       "      <th>Churn</th>\n",
       "      <th>MthlyCharges_Tenure_Ratio</th>\n",
       "      <th>TenureMonthlyRatio</th>\n",
       "      <th>...</th>\n",
       "      <th>DeviceProtection_Yes</th>\n",
       "      <th>TechSupport_No</th>\n",
       "      <th>TechSupport_No internet service</th>\n",
       "      <th>TechSupport_Yes</th>\n",
       "      <th>StreamingTV_No</th>\n",
       "      <th>StreamingTV_No internet service</th>\n",
       "      <th>StreamingTV_Yes</th>\n",
       "      <th>StreamingMovies_No</th>\n",
       "      <th>StreamingMovies_No internet service</th>\n",
       "      <th>StreamingMovies_Yes</th>\n",
       "    </tr>\n",
       "  </thead>\n",
       "  <tbody>\n",
       "    <tr>\n",
       "      <th>0</th>\n",
       "      <td>0</td>\n",
       "      <td>1</td>\n",
       "      <td>0</td>\n",
       "      <td>1</td>\n",
       "      <td>1</td>\n",
       "      <td>29.85</td>\n",
       "      <td>29.85</td>\n",
       "      <td>0</td>\n",
       "      <td>29.850</td>\n",
       "      <td>0.033501</td>\n",
       "      <td>...</td>\n",
       "      <td>False</td>\n",
       "      <td>True</td>\n",
       "      <td>False</td>\n",
       "      <td>False</td>\n",
       "      <td>True</td>\n",
       "      <td>False</td>\n",
       "      <td>False</td>\n",
       "      <td>True</td>\n",
       "      <td>False</td>\n",
       "      <td>False</td>\n",
       "    </tr>\n",
       "    <tr>\n",
       "      <th>1</th>\n",
       "      <td>0</td>\n",
       "      <td>0</td>\n",
       "      <td>0</td>\n",
       "      <td>34</td>\n",
       "      <td>0</td>\n",
       "      <td>56.95</td>\n",
       "      <td>1889.50</td>\n",
       "      <td>0</td>\n",
       "      <td>1.675</td>\n",
       "      <td>0.597015</td>\n",
       "      <td>...</td>\n",
       "      <td>True</td>\n",
       "      <td>True</td>\n",
       "      <td>False</td>\n",
       "      <td>False</td>\n",
       "      <td>True</td>\n",
       "      <td>False</td>\n",
       "      <td>False</td>\n",
       "      <td>True</td>\n",
       "      <td>False</td>\n",
       "      <td>False</td>\n",
       "    </tr>\n",
       "    <tr>\n",
       "      <th>2</th>\n",
       "      <td>0</td>\n",
       "      <td>0</td>\n",
       "      <td>0</td>\n",
       "      <td>2</td>\n",
       "      <td>1</td>\n",
       "      <td>53.85</td>\n",
       "      <td>108.15</td>\n",
       "      <td>1</td>\n",
       "      <td>26.925</td>\n",
       "      <td>0.037140</td>\n",
       "      <td>...</td>\n",
       "      <td>False</td>\n",
       "      <td>True</td>\n",
       "      <td>False</td>\n",
       "      <td>False</td>\n",
       "      <td>True</td>\n",
       "      <td>False</td>\n",
       "      <td>False</td>\n",
       "      <td>True</td>\n",
       "      <td>False</td>\n",
       "      <td>False</td>\n",
       "    </tr>\n",
       "    <tr>\n",
       "      <th>3</th>\n",
       "      <td>0</td>\n",
       "      <td>0</td>\n",
       "      <td>0</td>\n",
       "      <td>45</td>\n",
       "      <td>0</td>\n",
       "      <td>42.30</td>\n",
       "      <td>1840.75</td>\n",
       "      <td>0</td>\n",
       "      <td>0.940</td>\n",
       "      <td>1.063830</td>\n",
       "      <td>...</td>\n",
       "      <td>True</td>\n",
       "      <td>False</td>\n",
       "      <td>False</td>\n",
       "      <td>True</td>\n",
       "      <td>True</td>\n",
       "      <td>False</td>\n",
       "      <td>False</td>\n",
       "      <td>True</td>\n",
       "      <td>False</td>\n",
       "      <td>False</td>\n",
       "    </tr>\n",
       "    <tr>\n",
       "      <th>4</th>\n",
       "      <td>0</td>\n",
       "      <td>0</td>\n",
       "      <td>0</td>\n",
       "      <td>2</td>\n",
       "      <td>1</td>\n",
       "      <td>70.70</td>\n",
       "      <td>151.65</td>\n",
       "      <td>1</td>\n",
       "      <td>35.350</td>\n",
       "      <td>0.028289</td>\n",
       "      <td>...</td>\n",
       "      <td>False</td>\n",
       "      <td>True</td>\n",
       "      <td>False</td>\n",
       "      <td>False</td>\n",
       "      <td>True</td>\n",
       "      <td>False</td>\n",
       "      <td>False</td>\n",
       "      <td>True</td>\n",
       "      <td>False</td>\n",
       "      <td>False</td>\n",
       "    </tr>\n",
       "  </tbody>\n",
       "</table>\n",
       "<p>5 rows × 37 columns</p>\n",
       "</div>"
      ],
      "text/plain": [
       "   SeniorCitizen  Partner  Dependents  tenure  PaperlessBilling  \\\n",
       "0              0        1           0       1                 1   \n",
       "1              0        0           0      34                 0   \n",
       "2              0        0           0       2                 1   \n",
       "3              0        0           0      45                 0   \n",
       "4              0        0           0       2                 1   \n",
       "\n",
       "   MonthlyCharges  TotalCharges  Churn  MthlyCharges_Tenure_Ratio  \\\n",
       "0           29.85         29.85      0                     29.850   \n",
       "1           56.95       1889.50      0                      1.675   \n",
       "2           53.85        108.15      1                     26.925   \n",
       "3           42.30       1840.75      0                      0.940   \n",
       "4           70.70        151.65      1                     35.350   \n",
       "\n",
       "   TenureMonthlyRatio  ...  DeviceProtection_Yes  TechSupport_No  \\\n",
       "0            0.033501  ...                 False            True   \n",
       "1            0.597015  ...                  True            True   \n",
       "2            0.037140  ...                 False            True   \n",
       "3            1.063830  ...                  True           False   \n",
       "4            0.028289  ...                 False            True   \n",
       "\n",
       "   TechSupport_No internet service  TechSupport_Yes  StreamingTV_No  \\\n",
       "0                            False            False            True   \n",
       "1                            False            False            True   \n",
       "2                            False            False            True   \n",
       "3                            False             True            True   \n",
       "4                            False            False            True   \n",
       "\n",
       "   StreamingTV_No internet service  StreamingTV_Yes  StreamingMovies_No  \\\n",
       "0                            False            False                True   \n",
       "1                            False            False                True   \n",
       "2                            False            False                True   \n",
       "3                            False            False                True   \n",
       "4                            False            False                True   \n",
       "\n",
       "   StreamingMovies_No internet service  StreamingMovies_Yes  \n",
       "0                                False                False  \n",
       "1                                False                False  \n",
       "2                                False                False  \n",
       "3                                False                False  \n",
       "4                                False                False  \n",
       "\n",
       "[5 rows x 37 columns]"
      ]
     },
     "execution_count": 24,
     "metadata": {},
     "output_type": "execute_result"
    }
   ],
   "source": [
    "# Eliminar la columna 'InternetService' antes de aplicar one-hot encoding\n",
    "df_transformed.drop('InternetService', axis=1, inplace=True)\n",
    "\n",
    "# One-hot encoding (variables categoricas con mas de dos valores unicos)\n",
    "one_hot_encoding_columns = ['Contract', 'PaymentMethod','OnlineSecurity', 'OnlineBackup', 'DeviceProtection', 'TechSupport', 'StreamingTV', 'StreamingMovies']\n",
    "\n",
    "# Codificar variables categóricas con más de dos niveles usando one-hot encoding\n",
    "df_transformed = pd.get_dummies(df_transformed, columns=one_hot_encoding_columns)\n",
    "\n",
    "df_transformed.head()"
   ]
  },
  {
   "cell_type": "markdown",
   "metadata": {
    "id": "B7NOl5X2jgnI"
   },
   "source": [
    "## 4.3 Normalización"
   ]
  },
  {
   "cell_type": "markdown",
   "metadata": {},
   "source": [
    "La **Normalización de Datos** es una práctica común en el aprendizaje automático que consiste en transformar datos multiescalados a la misma escala. En ML, algunos valores de características difieren entre sí varias veces. Las características con valores más altos dominarán el proceso de aprendizaje; sin embargo, no significa que esas variables sean más importantes para predecir el objetivo. Después de la normalización, todas las variables tienen una influencia similar en el modelo, mejorando la estabilidad y el rendimiento del algoritmo de aprendizaje.\n",
    "\n",
    "En este proyecto, utilizaremos el **método min-max** para reescalar las columnas numéricas (tenure, MontlyCharges y TotalCharges) a una escala común. El enfoque min-max (a menudo llamado normalización) reescala la característica a un rango fijo de [0,1]."
   ]
  },
  {
   "cell_type": "code",
   "execution_count": 25,
   "metadata": {
    "id": "FE80VFkAjf_W"
   },
   "outputs": [
    {
     "data": {
      "text/html": [
       "<div>\n",
       "<style scoped>\n",
       "    .dataframe tbody tr th:only-of-type {\n",
       "        vertical-align: middle;\n",
       "    }\n",
       "\n",
       "    .dataframe tbody tr th {\n",
       "        vertical-align: top;\n",
       "    }\n",
       "\n",
       "    .dataframe thead th {\n",
       "        text-align: right;\n",
       "    }\n",
       "</style>\n",
       "<table border=\"1\" class=\"dataframe\">\n",
       "  <thead>\n",
       "    <tr style=\"text-align: right;\">\n",
       "      <th></th>\n",
       "      <th>SeniorCitizen</th>\n",
       "      <th>Partner</th>\n",
       "      <th>Dependents</th>\n",
       "      <th>tenure</th>\n",
       "      <th>PaperlessBilling</th>\n",
       "      <th>MonthlyCharges</th>\n",
       "      <th>TotalCharges</th>\n",
       "      <th>Churn</th>\n",
       "      <th>MthlyCharges_Tenure_Ratio</th>\n",
       "      <th>TenureMonthlyRatio</th>\n",
       "      <th>...</th>\n",
       "      <th>DeviceProtection_Yes</th>\n",
       "      <th>TechSupport_No</th>\n",
       "      <th>TechSupport_No internet service</th>\n",
       "      <th>TechSupport_Yes</th>\n",
       "      <th>StreamingTV_No</th>\n",
       "      <th>StreamingTV_No internet service</th>\n",
       "      <th>StreamingTV_Yes</th>\n",
       "      <th>StreamingMovies_No</th>\n",
       "      <th>StreamingMovies_No internet service</th>\n",
       "      <th>StreamingMovies_Yes</th>\n",
       "    </tr>\n",
       "  </thead>\n",
       "  <tbody>\n",
       "    <tr>\n",
       "      <th>0</th>\n",
       "      <td>0</td>\n",
       "      <td>1</td>\n",
       "      <td>0</td>\n",
       "      <td>0.000000</td>\n",
       "      <td>1</td>\n",
       "      <td>0.115423</td>\n",
       "      <td>0.001275</td>\n",
       "      <td>0</td>\n",
       "      <td>0.289503</td>\n",
       "      <td>0.006380</td>\n",
       "      <td>...</td>\n",
       "      <td>False</td>\n",
       "      <td>True</td>\n",
       "      <td>False</td>\n",
       "      <td>False</td>\n",
       "      <td>True</td>\n",
       "      <td>False</td>\n",
       "      <td>False</td>\n",
       "      <td>True</td>\n",
       "      <td>False</td>\n",
       "      <td>False</td>\n",
       "    </tr>\n",
       "    <tr>\n",
       "      <th>1</th>\n",
       "      <td>0</td>\n",
       "      <td>0</td>\n",
       "      <td>0</td>\n",
       "      <td>0.464789</td>\n",
       "      <td>0</td>\n",
       "      <td>0.385075</td>\n",
       "      <td>0.215867</td>\n",
       "      <td>0</td>\n",
       "      <td>0.013769</td>\n",
       "      <td>0.157830</td>\n",
       "      <td>...</td>\n",
       "      <td>True</td>\n",
       "      <td>True</td>\n",
       "      <td>False</td>\n",
       "      <td>False</td>\n",
       "      <td>True</td>\n",
       "      <td>False</td>\n",
       "      <td>False</td>\n",
       "      <td>True</td>\n",
       "      <td>False</td>\n",
       "      <td>False</td>\n",
       "    </tr>\n",
       "    <tr>\n",
       "      <th>2</th>\n",
       "      <td>0</td>\n",
       "      <td>0</td>\n",
       "      <td>0</td>\n",
       "      <td>0.014085</td>\n",
       "      <td>1</td>\n",
       "      <td>0.354229</td>\n",
       "      <td>0.010310</td>\n",
       "      <td>1</td>\n",
       "      <td>0.260877</td>\n",
       "      <td>0.007358</td>\n",
       "      <td>...</td>\n",
       "      <td>False</td>\n",
       "      <td>True</td>\n",
       "      <td>False</td>\n",
       "      <td>False</td>\n",
       "      <td>True</td>\n",
       "      <td>False</td>\n",
       "      <td>False</td>\n",
       "      <td>True</td>\n",
       "      <td>False</td>\n",
       "      <td>False</td>\n",
       "    </tr>\n",
       "    <tr>\n",
       "      <th>3</th>\n",
       "      <td>0</td>\n",
       "      <td>0</td>\n",
       "      <td>0</td>\n",
       "      <td>0.619718</td>\n",
       "      <td>0</td>\n",
       "      <td>0.239303</td>\n",
       "      <td>0.210241</td>\n",
       "      <td>0</td>\n",
       "      <td>0.006576</td>\n",
       "      <td>0.283290</td>\n",
       "      <td>...</td>\n",
       "      <td>True</td>\n",
       "      <td>False</td>\n",
       "      <td>False</td>\n",
       "      <td>True</td>\n",
       "      <td>True</td>\n",
       "      <td>False</td>\n",
       "      <td>False</td>\n",
       "      <td>True</td>\n",
       "      <td>False</td>\n",
       "      <td>False</td>\n",
       "    </tr>\n",
       "    <tr>\n",
       "      <th>4</th>\n",
       "      <td>0</td>\n",
       "      <td>0</td>\n",
       "      <td>0</td>\n",
       "      <td>0.014085</td>\n",
       "      <td>1</td>\n",
       "      <td>0.521891</td>\n",
       "      <td>0.015330</td>\n",
       "      <td>1</td>\n",
       "      <td>0.343328</td>\n",
       "      <td>0.004979</td>\n",
       "      <td>...</td>\n",
       "      <td>False</td>\n",
       "      <td>True</td>\n",
       "      <td>False</td>\n",
       "      <td>False</td>\n",
       "      <td>True</td>\n",
       "      <td>False</td>\n",
       "      <td>False</td>\n",
       "      <td>True</td>\n",
       "      <td>False</td>\n",
       "      <td>False</td>\n",
       "    </tr>\n",
       "  </tbody>\n",
       "</table>\n",
       "<p>5 rows × 37 columns</p>\n",
       "</div>"
      ],
      "text/plain": [
       "   SeniorCitizen  Partner  Dependents    tenure  PaperlessBilling  \\\n",
       "0              0        1           0  0.000000                 1   \n",
       "1              0        0           0  0.464789                 0   \n",
       "2              0        0           0  0.014085                 1   \n",
       "3              0        0           0  0.619718                 0   \n",
       "4              0        0           0  0.014085                 1   \n",
       "\n",
       "   MonthlyCharges  TotalCharges  Churn  MthlyCharges_Tenure_Ratio  \\\n",
       "0        0.115423      0.001275      0                   0.289503   \n",
       "1        0.385075      0.215867      0                   0.013769   \n",
       "2        0.354229      0.010310      1                   0.260877   \n",
       "3        0.239303      0.210241      0                   0.006576   \n",
       "4        0.521891      0.015330      1                   0.343328   \n",
       "\n",
       "   TenureMonthlyRatio  ...  DeviceProtection_Yes  TechSupport_No  \\\n",
       "0            0.006380  ...                 False            True   \n",
       "1            0.157830  ...                  True            True   \n",
       "2            0.007358  ...                 False            True   \n",
       "3            0.283290  ...                  True           False   \n",
       "4            0.004979  ...                 False            True   \n",
       "\n",
       "   TechSupport_No internet service  TechSupport_Yes  StreamingTV_No  \\\n",
       "0                            False            False            True   \n",
       "1                            False            False            True   \n",
       "2                            False            False            True   \n",
       "3                            False             True            True   \n",
       "4                            False            False            True   \n",
       "\n",
       "   StreamingTV_No internet service  StreamingTV_Yes  StreamingMovies_No  \\\n",
       "0                            False            False                True   \n",
       "1                            False            False                True   \n",
       "2                            False            False                True   \n",
       "3                            False            False                True   \n",
       "4                            False            False                True   \n",
       "\n",
       "   StreamingMovies_No internet service  StreamingMovies_Yes  \n",
       "0                                False                False  \n",
       "1                                False                False  \n",
       "2                                False                False  \n",
       "3                                False                False  \n",
       "4                                False                False  \n",
       "\n",
       "[5 rows x 37 columns]"
      ]
     },
     "execution_count": 25,
     "metadata": {},
     "output_type": "execute_result"
    }
   ],
   "source": [
    "scaler = MinMaxScaler()\n",
    "df_transformed[['tenure', 'MonthlyCharges', 'TotalCharges','MthlyCharges_Tenure_Ratio','TenureMonthlyRatio']] = scaler.fit_transform(df[['tenure', 'MonthlyCharges', 'TotalCharges','MthlyCharges_Tenure_Ratio','TenureMonthlyRatio']])\n",
    "df_transformed.head()"
   ]
  },
  {
   "cell_type": "markdown",
   "metadata": {
    "id": "yf4hP8hOjl0G"
   },
   "source": [
    "# **5. Entrenamiento y Testeo**\n",
    "\n",
    "---"
   ]
  },
  {
   "cell_type": "markdown",
   "metadata": {},
   "source": [
    "El primer paso al construir un modelo es **dividir los datos en dos grupos**, que normalmente se denominan conjuntos de **entrenamiento** y **prueba**. El algoritmo de aprendizaje automático utiliza el conjunto de entrenamiento para construir el modelo. El conjunto de prueba contiene muestras que no formaron parte del proceso de aprendizaje y se utilizan para evaluar el rendimiento del modelo. Es importante evaluar la calidad del modelo utilizando datos no vistos en entrenamiento para garantizar una evaluación objetiva.\n",
    "\n",
    "Primero, creamos una variable `X` para almacenar los atributos independientes del conjunto de datos. Además, creamos una variable `y` para almacenar solo la variable objetivo (Churn)."
   ]
  },
  {
   "cell_type": "markdown",
   "metadata": {},
   "source": [
    "## 5.1 Seleccion de datos"
   ]
  },
  {
   "cell_type": "code",
   "execution_count": 26,
   "metadata": {
    "id": "o8K0ty9i89f8"
   },
   "outputs": [
    {
     "name": "stdout",
     "output_type": "stream",
     "text": [
      "Index(['SeniorCitizen', 'Partner', 'Dependents', 'tenure', 'PaperlessBilling',\n",
      "       'MonthlyCharges', 'TotalCharges', 'MthlyCharges_Tenure_Ratio',\n",
      "       'TenureMonthlyRatio', 'HasInternetService', 'NumServices',\n",
      "       'Contract_Month-to-month', 'Contract_One year', 'Contract_Two year',\n",
      "       'PaymentMethod_Bank transfer', 'PaymentMethod_Credit card',\n",
      "       'PaymentMethod_Electronic check', 'PaymentMethod_Mailed check',\n",
      "       'OnlineSecurity_No', 'OnlineSecurity_No internet service',\n",
      "       'OnlineSecurity_Yes', 'OnlineBackup_No',\n",
      "       'OnlineBackup_No internet service', 'OnlineBackup_Yes',\n",
      "       'DeviceProtection_No', 'DeviceProtection_No internet service',\n",
      "       'DeviceProtection_Yes', 'TechSupport_No',\n",
      "       'TechSupport_No internet service', 'TechSupport_Yes', 'StreamingTV_No',\n",
      "       'StreamingTV_No internet service', 'StreamingTV_Yes',\n",
      "       'StreamingMovies_No', 'StreamingMovies_No internet service',\n",
      "       'StreamingMovies_Yes'],\n",
      "      dtype='object')\n",
      "Churn\n"
     ]
    }
   ],
   "source": [
    "# Seleccionamos las variables independientes\n",
    "X = df_transformed.drop(columns='Churn')\n",
    "\n",
    "# Seleccionamos la variable dependiente\n",
    "y = df_transformed.loc[:, 'Churn']\n",
    "\n",
    "# Verificamos que las variables fueron seleccionadas correctamente\n",
    "print(X.columns)\n",
    "\n",
    "# Verificamos que las variables fueron seleccionadas correctamente\n",
    "print(y.name)"
   ]
  },
  {
   "cell_type": "markdown",
   "metadata": {},
   "source": [
    "## 5.2 División de datos"
   ]
  },
  {
   "cell_type": "code",
   "execution_count": 27,
   "metadata": {},
   "outputs": [],
   "source": [
    "# Division de la BD en conjuntos de entrenamiento y prueba\n",
    "X_train, X_test, y_train, y_test = train_test_split(X, y, test_size=0.2, random_state=42, shuffle=True)"
   ]
  },
  {
   "cell_type": "markdown",
   "metadata": {},
   "source": [
    "Este código dividirá el conjunto de datos en un 80% para entrenamiento `(X_train y y_train)` y un 20% para prueba `(X_test y y_test)`. Además, al establecer `random_state=42`, se garantiza que la división se realice de manera consistente cada vez que se ejecute el código, lo que facilita la reproducibilidad de los resultados. La opción `shuffle=True` garantiza que los datos se barajen aleatoriamente antes de la división, lo que puede ayudar a evitar cualquier sesgo en la selección de los conjuntos."
   ]
  },
  {
   "cell_type": "markdown",
   "metadata": {},
   "source": [
    "## 5.3 Entrenamiento y evaluación de modelos:"
   ]
  },
  {
   "cell_type": "code",
   "execution_count": 28,
   "metadata": {},
   "outputs": [],
   "source": [
    "def create_models(seed=42):\n",
    "    '''\n",
    "    Crea una lista de modelos de aprendizaje automático.\n",
    "            Parámetros:\n",
    "                    seed (entero): semilla aleatoria de los modelos\n",
    "            Retorna:\n",
    "                    models (lista): lista que contiene los modelos\n",
    "    '''\n",
    "\n",
    "    models = []\n",
    "    models.append(('dummy_classifier', DummyClassifier(random_state=seed, strategy='most_frequent')))\n",
    "    models.append(('k_nearest_neighbors', KNeighborsClassifier()))\n",
    "    models.append(('logistic_regression', LogisticRegression(random_state=seed,max_iter=1000)))\n",
    "    models.append(('support_vector_machines', SVC(random_state=seed)))\n",
    "    models.append(('random_forest', RandomForestClassifier(random_state=seed)))\n",
    "    models.append(('gradient_boosting', GradientBoostingClassifier(random_state=seed)))\n",
    "    \n",
    "    return models\n",
    "\n",
    "# crea una lista con todos los algoritmos que vamos a evaluar\n",
    "models = create_models()"
   ]
  },
  {
   "cell_type": "markdown",
   "metadata": {},
   "source": [
    "Con el codigo anterior configuramos una lista de modelos de aprendizaje automático para su evaluación. Los modelos seleccionados son los siguientes:\n",
    "\n",
    "- `Dummy Classifier`: Este modelo es útil como línea de base, ya que predice la clase más frecuente en el conjunto de datos de entrenamiento. Es útil para comparar la eficacia de otros modelos con respecto a una predicción aleatoria o ingenua.\n",
    "\n",
    "- `K Nearest Neighbors (KNN)`: Este modelo se utiliza para clasificación y puede ser efectivo en la predicción de clases en función de la similitud con instancias vecinas en el espacio de características.\n",
    "\n",
    "- `Regresión Logística`: Es un modelo lineal utilizado para problemas de clasificación binaria que estima la probabilidad de que una instancia pertenezca a una clase particular.\n",
    "\n",
    "- `Support Vector Machines (SVM)`: Es un modelo versátil que puede ser útil tanto para problemas de clasificación lineal como no lineal al encontrar el hiperplano que mejor separa las clases en el espacio de características.\n",
    "\n",
    "- `Random Forest`: Este es un modelo de conjunto que utiliza múltiples árboles de decisión para mejorar la precisión y reducir el sobreajuste.\n",
    "\n",
    "- `Gradient Boosting`: Es otro modelo de conjunto que construye los modelos en forma de árboles de decisión en serie, donde cada árbol intenta corregir los errores del anterior, lo que puede resultar en una alta precisión predictiva."
   ]
  },
  {
   "cell_type": "code",
   "execution_count": 29,
   "metadata": {},
   "outputs": [
    {
     "name": "stdout",
     "output_type": "stream",
     "text": [
      "Clasificador: dummy_classifier, Precisión: 0.7341862117981521)\n",
      "Clasificador: k_nearest_neighbors, Precisión: 0.7533759772565742)\n",
      "Clasificador: logistic_regression, Precisión: 0.783226723525231)\n",
      "Clasificador: support_vector_machines, Precisión: 0.7803837953091685)\n",
      "Clasificador: random_forest, Precisión: 0.7789623312011372)\n",
      "Clasificador: gradient_boosting, Precisión: 0.7995735607675906)\n"
     ]
    }
   ],
   "source": [
    "# probar la precisión de cada modelo usando hiperparámetros predeterminados\n",
    "resultados = []\n",
    "nombres = []\n",
    "puntuacion = 'accuracy'\n",
    "for nombre, modelo in models:\n",
    "    # ajustar el modelo con los datos de entrenamiento\n",
    "    modelo.fit(X_train, y_train).predict(X_test)\n",
    "    # hacer predicciones con los datos de prueba\n",
    "    predicciones = modelo.predict(X_test)\n",
    "    # calcular la precisión\n",
    "    precision = accuracy_score(y_test, predicciones)\n",
    "    # agregar el nombre del modelo y la precisión a las listas\n",
    "    resultados.append(precision)\n",
    "    nombres.append(nombre)\n",
    "    # imprimir la precisión del clasificador\n",
    "    print('Clasificador: {}, Precisión: {})'.format(nombre, precision))\n",
    "\n"
   ]
  },
  {
   "cell_type": "markdown",
   "metadata": {},
   "source": [
    "Como se observa en el resultado anterior, todos los modelos superan al modelo **dummy_classifier** en términos de precisión de predicción. Por tanto, podemos afirmar que el aprendizaje automático es aplicable a nuestro problema porque observamos una mejora con respecto a la línea base.\n",
    "\n",
    "En general, parece que el modelo de **Gradient Boosting** tiene la mayor precisión en este conjunto de datos, seguido de la **Regresión Logística**. Sin embargo, es importante recordar que la precisión no es la única métrica a considerar al evaluar un modelo, y puede ser útil examinar otras métricas "
   ]
  },
  {
   "cell_type": "markdown",
   "metadata": {},
   "source": [
    "## 5.4 Validacion Cruzada:"
   ]
  },
  {
   "cell_type": "code",
   "execution_count": 30,
   "metadata": {},
   "outputs": [
    {
     "name": "stdout",
     "output_type": "stream",
     "text": [
      "dummy_classifier: Mean accuracy: 0.7342 (+/- 0.0003)\n",
      "k_nearest_neighbors: Mean accuracy: 0.7622 (+/- 0.0072)\n",
      "logistic_regression: Mean accuracy: 0.7993 (+/- 0.0067)\n",
      "support_vector_machines: Mean accuracy: 0.7961 (+/- 0.0059)\n",
      "random_forest: Mean accuracy: 0.7834 (+/- 0.0089)\n",
      "gradient_boosting: Mean accuracy: 0.8029 (+/- 0.0108)\n"
     ]
    }
   ],
   "source": [
    "# Función para evaluar los modelos mediante validación cruzada\n",
    "def evaluate_models(models, X, y, scoring='accuracy', cv=5):\n",
    "    '''\n",
    "    Evalúa varios modelos utilizando validación cruzada.\n",
    "    \n",
    "    Parámetros:\n",
    "        - models (list): Lista de tuplas (nombre, modelo) de los modelos a evaluar.\n",
    "        - X (DataFrame): Features.\n",
    "        - y (Series): Target.\n",
    "        - scoring (str): Métrica de evaluación (por defecto 'accuracy').\n",
    "        - cv (int): Número de divisiones para la validación cruzada (por defecto 5).\n",
    "    \n",
    "    Retorna:\n",
    "        - scores (dict): Diccionario con los nombres de los modelos y sus puntuaciones de validación cruzada.\n",
    "    '''\n",
    "    scores = {}\n",
    "    for name, model in models:\n",
    "        cv_scores = cross_val_score(model, X, y, cv=cv, scoring=scoring)\n",
    "        scores[name] = cv_scores\n",
    "        print(f'{name}: Mean {scoring}: {np.mean(cv_scores):.4f} (+/- {np.std(cv_scores):.4f})')\n",
    "    return scores\n",
    "\n",
    "# Evaluar los modelos\n",
    "scores = evaluate_models(models, X, y)\n"
   ]
  },
  {
   "cell_type": "markdown",
   "metadata": {},
   "source": [
    "Los resultados muestran la precisión media y la variabilidad (desviación estándar) de cada modelo en la clasificación de los datos. Aquí hay algunas observaciones:\n",
    "\n",
    "- `dummy_classifier`: Este modelo, que simplemente predice la clase más frecuente en el conjunto de entrenamiento, tiene una precisión media de aproximadamente 73.42%, con una baja variabilidad.\n",
    "\n",
    "- `k_nearest_neighbors`: Con una precisión media de alrededor del 76.22%, es ligeramente superior al dummy classifier, pero con una mayor variabilidad, indicada por una desviación estándar de aproximadamente 0.0072.\n",
    "\n",
    "- `logistic_regression`: La regresión logística alcanza una precisión media de aproximadamente 79.93%, mostrando un rendimiento más sólido en comparación con los modelos anteriores y una variabilidad moderada.\n",
    "\n",
    "- `support_vector_machines`: Los vectores de soporte obtienen una precisión media similar a la regresión logística, alrededor del 79.61%, con una variabilidad ligeramente menor.\n",
    "\n",
    "- `random_forest`: Muestra una precisión media de aproximadamente 78.34%, con una variabilidad más alta en comparación con la regresión logística y los vectores de soporte.\n",
    "\n",
    "- `gradient_boosting`: Con una precisión media de alrededor del **80.29%**, este modelo muestra el mejor rendimiento entre los probados, con una variabilidad ligeramente más alta que la regresión logística.\n",
    "\n",
    "En resumen, el modelo `gradient_boosting` parece ser el más prometedor en términos de precisión media, pero su variabilidad también es importante considerar. `logistic_regression` también muestra un rendimiento sólido con una variabilidad moderada. Los resultados sugieren que estos dos modelos podrían ser los más adecuados para continuar con un ajuste más detallado y una evaluación exhaustiva."
   ]
  },
  {
   "cell_type": "markdown",
   "metadata": {},
   "source": [
    "# **6. Optimización del/los modelo(s)**\n",
    "\n",
    "---"
   ]
  },
  {
   "cell_type": "markdown",
   "metadata": {},
   "source": [
    "Es importante tener en cuenta que hemos entrenado todos los algoritmos utilizando los hiperparámetros predeterminados. La precisión de muchos algoritmos de aprendizaje automático es muy sensible a los hiperparámetros elegidos para entrenar el modelo. A continuación realizaremos la evaluación de una gama más amplia de hiperparámetros (no solo valores predeterminados) antes de elegir un modelo (o modelos) para el ajuste de hiperparámetros."
   ]
  },
  {
   "cell_type": "markdown",
   "metadata": {},
   "source": [
    "Este código buscará los mejores hiperparámetros para `Gradient Boosting` y `logistic_regression` utilizando `RandomizedSearchCV` y los rangos de hiperparámetros especificados en `param_dist_gradient_boosting` y `param_dist_logistic_regression`, respectivamente. Los resultados se imprimirán en la consola. "
   ]
  },
  {
   "cell_type": "code",
   "execution_count": 31,
   "metadata": {},
   "outputs": [
    {
     "name": "stderr",
     "output_type": "stream",
     "text": [
      "C:\\Users\\Alex\\miniconda3\\Lib\\site-packages\\sklearn\\model_selection\\_search.py:305: UserWarning: The total space of parameters 270 is smaller than n_iter=300. Running 270 iterations. For exhaustive searches, use GridSearchCV.\n",
      "  warnings.warn(\n",
      "C:\\Users\\Alex\\miniconda3\\Lib\\site-packages\\sklearn\\linear_model\\_sag.py:350: ConvergenceWarning: The max_iter was reached which means the coef_ did not converge\n",
      "  warnings.warn(\n",
      "C:\\Users\\Alex\\miniconda3\\Lib\\site-packages\\sklearn\\linear_model\\_sag.py:350: ConvergenceWarning: The max_iter was reached which means the coef_ did not converge\n",
      "  warnings.warn(\n",
      "C:\\Users\\Alex\\miniconda3\\Lib\\site-packages\\sklearn\\linear_model\\_sag.py:350: ConvergenceWarning: The max_iter was reached which means the coef_ did not converge\n",
      "  warnings.warn(\n",
      "C:\\Users\\Alex\\miniconda3\\Lib\\site-packages\\sklearn\\linear_model\\_sag.py:350: ConvergenceWarning: The max_iter was reached which means the coef_ did not converge\n",
      "  warnings.warn(\n",
      "C:\\Users\\Alex\\miniconda3\\Lib\\site-packages\\sklearn\\linear_model\\_sag.py:350: ConvergenceWarning: The max_iter was reached which means the coef_ did not converge\n",
      "  warnings.warn(\n",
      "C:\\Users\\Alex\\miniconda3\\Lib\\site-packages\\sklearn\\linear_model\\_sag.py:350: ConvergenceWarning: The max_iter was reached which means the coef_ did not converge\n",
      "  warnings.warn(\n",
      "C:\\Users\\Alex\\miniconda3\\Lib\\site-packages\\sklearn\\linear_model\\_sag.py:350: ConvergenceWarning: The max_iter was reached which means the coef_ did not converge\n",
      "  warnings.warn(\n",
      "C:\\Users\\Alex\\miniconda3\\Lib\\site-packages\\sklearn\\linear_model\\_sag.py:350: ConvergenceWarning: The max_iter was reached which means the coef_ did not converge\n",
      "  warnings.warn(\n",
      "C:\\Users\\Alex\\miniconda3\\Lib\\site-packages\\sklearn\\linear_model\\_sag.py:350: ConvergenceWarning: The max_iter was reached which means the coef_ did not converge\n",
      "  warnings.warn(\n",
      "C:\\Users\\Alex\\miniconda3\\Lib\\site-packages\\sklearn\\linear_model\\_sag.py:350: ConvergenceWarning: The max_iter was reached which means the coef_ did not converge\n",
      "  warnings.warn(\n",
      "C:\\Users\\Alex\\miniconda3\\Lib\\site-packages\\sklearn\\linear_model\\_sag.py:350: ConvergenceWarning: The max_iter was reached which means the coef_ did not converge\n",
      "  warnings.warn(\n",
      "C:\\Users\\Alex\\miniconda3\\Lib\\site-packages\\sklearn\\linear_model\\_sag.py:350: ConvergenceWarning: The max_iter was reached which means the coef_ did not converge\n",
      "  warnings.warn(\n",
      "C:\\Users\\Alex\\miniconda3\\Lib\\site-packages\\sklearn\\linear_model\\_sag.py:350: ConvergenceWarning: The max_iter was reached which means the coef_ did not converge\n",
      "  warnings.warn(\n",
      "C:\\Users\\Alex\\miniconda3\\Lib\\site-packages\\sklearn\\linear_model\\_sag.py:350: ConvergenceWarning: The max_iter was reached which means the coef_ did not converge\n",
      "  warnings.warn(\n",
      "C:\\Users\\Alex\\miniconda3\\Lib\\site-packages\\sklearn\\linear_model\\_sag.py:350: ConvergenceWarning: The max_iter was reached which means the coef_ did not converge\n",
      "  warnings.warn(\n",
      "C:\\Users\\Alex\\miniconda3\\Lib\\site-packages\\sklearn\\linear_model\\_sag.py:350: ConvergenceWarning: The max_iter was reached which means the coef_ did not converge\n",
      "  warnings.warn(\n",
      "C:\\Users\\Alex\\miniconda3\\Lib\\site-packages\\sklearn\\linear_model\\_sag.py:350: ConvergenceWarning: The max_iter was reached which means the coef_ did not converge\n",
      "  warnings.warn(\n",
      "C:\\Users\\Alex\\miniconda3\\Lib\\site-packages\\sklearn\\linear_model\\_sag.py:350: ConvergenceWarning: The max_iter was reached which means the coef_ did not converge\n",
      "  warnings.warn(\n",
      "C:\\Users\\Alex\\miniconda3\\Lib\\site-packages\\sklearn\\linear_model\\_sag.py:350: ConvergenceWarning: The max_iter was reached which means the coef_ did not converge\n",
      "  warnings.warn(\n",
      "C:\\Users\\Alex\\miniconda3\\Lib\\site-packages\\sklearn\\linear_model\\_sag.py:350: ConvergenceWarning: The max_iter was reached which means the coef_ did not converge\n",
      "  warnings.warn(\n",
      "C:\\Users\\Alex\\miniconda3\\Lib\\site-packages\\sklearn\\linear_model\\_sag.py:350: ConvergenceWarning: The max_iter was reached which means the coef_ did not converge\n",
      "  warnings.warn(\n",
      "C:\\Users\\Alex\\miniconda3\\Lib\\site-packages\\sklearn\\linear_model\\_sag.py:350: ConvergenceWarning: The max_iter was reached which means the coef_ did not converge\n",
      "  warnings.warn(\n",
      "C:\\Users\\Alex\\miniconda3\\Lib\\site-packages\\sklearn\\linear_model\\_sag.py:350: ConvergenceWarning: The max_iter was reached which means the coef_ did not converge\n",
      "  warnings.warn(\n",
      "C:\\Users\\Alex\\miniconda3\\Lib\\site-packages\\sklearn\\linear_model\\_sag.py:350: ConvergenceWarning: The max_iter was reached which means the coef_ did not converge\n",
      "  warnings.warn(\n",
      "C:\\Users\\Alex\\miniconda3\\Lib\\site-packages\\sklearn\\linear_model\\_sag.py:350: ConvergenceWarning: The max_iter was reached which means the coef_ did not converge\n",
      "  warnings.warn(\n",
      "C:\\Users\\Alex\\miniconda3\\Lib\\site-packages\\sklearn\\linear_model\\_sag.py:350: ConvergenceWarning: The max_iter was reached which means the coef_ did not converge\n",
      "  warnings.warn(\n",
      "C:\\Users\\Alex\\miniconda3\\Lib\\site-packages\\sklearn\\linear_model\\_sag.py:350: ConvergenceWarning: The max_iter was reached which means the coef_ did not converge\n",
      "  warnings.warn(\n",
      "C:\\Users\\Alex\\miniconda3\\Lib\\site-packages\\sklearn\\linear_model\\_sag.py:350: ConvergenceWarning: The max_iter was reached which means the coef_ did not converge\n",
      "  warnings.warn(\n",
      "C:\\Users\\Alex\\miniconda3\\Lib\\site-packages\\sklearn\\linear_model\\_sag.py:350: ConvergenceWarning: The max_iter was reached which means the coef_ did not converge\n",
      "  warnings.warn(\n",
      "C:\\Users\\Alex\\miniconda3\\Lib\\site-packages\\sklearn\\linear_model\\_sag.py:350: ConvergenceWarning: The max_iter was reached which means the coef_ did not converge\n",
      "  warnings.warn(\n",
      "C:\\Users\\Alex\\miniconda3\\Lib\\site-packages\\sklearn\\linear_model\\_sag.py:350: ConvergenceWarning: The max_iter was reached which means the coef_ did not converge\n",
      "  warnings.warn(\n",
      "C:\\Users\\Alex\\miniconda3\\Lib\\site-packages\\sklearn\\linear_model\\_sag.py:350: ConvergenceWarning: The max_iter was reached which means the coef_ did not converge\n",
      "  warnings.warn(\n",
      "C:\\Users\\Alex\\miniconda3\\Lib\\site-packages\\sklearn\\linear_model\\_sag.py:350: ConvergenceWarning: The max_iter was reached which means the coef_ did not converge\n",
      "  warnings.warn(\n",
      "C:\\Users\\Alex\\miniconda3\\Lib\\site-packages\\sklearn\\linear_model\\_sag.py:350: ConvergenceWarning: The max_iter was reached which means the coef_ did not converge\n",
      "  warnings.warn(\n",
      "C:\\Users\\Alex\\miniconda3\\Lib\\site-packages\\sklearn\\linear_model\\_sag.py:350: ConvergenceWarning: The max_iter was reached which means the coef_ did not converge\n",
      "  warnings.warn(\n",
      "C:\\Users\\Alex\\miniconda3\\Lib\\site-packages\\sklearn\\linear_model\\_sag.py:350: ConvergenceWarning: The max_iter was reached which means the coef_ did not converge\n",
      "  warnings.warn(\n",
      "C:\\Users\\Alex\\miniconda3\\Lib\\site-packages\\sklearn\\linear_model\\_sag.py:350: ConvergenceWarning: The max_iter was reached which means the coef_ did not converge\n",
      "  warnings.warn(\n",
      "C:\\Users\\Alex\\miniconda3\\Lib\\site-packages\\sklearn\\linear_model\\_sag.py:350: ConvergenceWarning: The max_iter was reached which means the coef_ did not converge\n",
      "  warnings.warn(\n",
      "C:\\Users\\Alex\\miniconda3\\Lib\\site-packages\\sklearn\\linear_model\\_sag.py:350: ConvergenceWarning: The max_iter was reached which means the coef_ did not converge\n",
      "  warnings.warn(\n",
      "C:\\Users\\Alex\\miniconda3\\Lib\\site-packages\\sklearn\\linear_model\\_sag.py:350: ConvergenceWarning: The max_iter was reached which means the coef_ did not converge\n",
      "  warnings.warn(\n",
      "C:\\Users\\Alex\\miniconda3\\Lib\\site-packages\\sklearn\\linear_model\\_sag.py:350: ConvergenceWarning: The max_iter was reached which means the coef_ did not converge\n",
      "  warnings.warn(\n",
      "C:\\Users\\Alex\\miniconda3\\Lib\\site-packages\\sklearn\\linear_model\\_sag.py:350: ConvergenceWarning: The max_iter was reached which means the coef_ did not converge\n",
      "  warnings.warn(\n",
      "C:\\Users\\Alex\\miniconda3\\Lib\\site-packages\\sklearn\\linear_model\\_sag.py:350: ConvergenceWarning: The max_iter was reached which means the coef_ did not converge\n",
      "  warnings.warn(\n",
      "C:\\Users\\Alex\\miniconda3\\Lib\\site-packages\\sklearn\\linear_model\\_sag.py:350: ConvergenceWarning: The max_iter was reached which means the coef_ did not converge\n",
      "  warnings.warn(\n",
      "C:\\Users\\Alex\\miniconda3\\Lib\\site-packages\\sklearn\\linear_model\\_sag.py:350: ConvergenceWarning: The max_iter was reached which means the coef_ did not converge\n",
      "  warnings.warn(\n"
     ]
    },
    {
     "name": "stderr",
     "output_type": "stream",
     "text": [
      "C:\\Users\\Alex\\miniconda3\\Lib\\site-packages\\sklearn\\linear_model\\_sag.py:350: ConvergenceWarning: The max_iter was reached which means the coef_ did not converge\n",
      "  warnings.warn(\n",
      "C:\\Users\\Alex\\miniconda3\\Lib\\site-packages\\sklearn\\linear_model\\_sag.py:350: ConvergenceWarning: The max_iter was reached which means the coef_ did not converge\n",
      "  warnings.warn(\n",
      "C:\\Users\\Alex\\miniconda3\\Lib\\site-packages\\sklearn\\linear_model\\_sag.py:350: ConvergenceWarning: The max_iter was reached which means the coef_ did not converge\n",
      "  warnings.warn(\n"
     ]
    },
    {
     "name": "stdout",
     "output_type": "stream",
     "text": [
      "Mejores hiperparámetros para gradient_boosting: {'n_estimators': 120, 'min_samples_split': 10, 'max_features': 'log2', 'max_depth': 4, 'learning_rate': 0.05}\n",
      "Mejores hiperparámetros para logistic_regression: {'tol': 0.001, 'solver': 'saga', 'max_iter': 1000, 'class_weight': None, 'C': 10}\n"
     ]
    }
   ],
   "source": [
    "seed = 42  # Definir una semilla para la reproducibilidad de los resultados\n",
    "# Definir los hiperparámetros a ajustar para Gradient Boosting\n",
    "param_dist_gradient_boosting = {\n",
    "    'learning_rate': [0.1, 0.05, 0.01],\n",
    "    'max_depth': [3, 4, 5, 6],\n",
    "    'n_estimators': [80, 90, 100, 110, 120, 150],\n",
    "    'min_samples_split': [2, 3, 4, 5, 10],\n",
    "    'max_features': [1.0, 'sqrt', 'log2']\n",
    "}\n",
    "\n",
    "# Definir los hiperparámetros a ajustar para Regresión Logística\n",
    "param_dist_logistic_regression = {\n",
    "    'C': [0.1, 1, 10],\n",
    "    'max_iter': [1000, 1500, 2000],\n",
    "    'solver': ['liblinear', 'lbfgs', 'newton-cg', 'sag', 'saga'],\n",
    "    'tol': [1e-3, 1e-4, 1e-5],\n",
    "    'class_weight': [None, 'balanced']\n",
    "}\n",
    "\n",
    "# Realizar la búsqueda de hiperparámetros para Gradient Boosting\n",
    "random_search_gradient_boosting = RandomizedSearchCV(\n",
    "    GradientBoostingClassifier(random_state=seed),\n",
    "    param_distributions=param_dist_gradient_boosting,\n",
    "    n_iter=400,\n",
    "    cv=5,\n",
    "    scoring='accuracy',\n",
    "    random_state=seed\n",
    ")\n",
    "random_search_gradient_boosting.fit(X_train, y_train)\n",
    "\n",
    "# Realizar la búsqueda de hiperparámetros para Regresión Logística\n",
    "random_search_logistic_regression = RandomizedSearchCV(\n",
    "    LogisticRegression(random_state=seed),\n",
    "    param_distributions=param_dist_logistic_regression,\n",
    "    n_iter=400,\n",
    "    cv=5,\n",
    "    scoring='accuracy',\n",
    "    random_state=seed\n",
    ")\n",
    "random_search_logistic_regression.fit(X_train, y_train)\n",
    "\n",
    "# Obtener los mejores hiperparámetros para cada modelo\n",
    "best_params_gradient_boosting = random_search_gradient_boosting.best_params_\n",
    "best_params_logistic_regression = random_search_logistic_regression.best_params_\n",
    "\n",
    "print(\"Mejores hiperparámetros para gradient_boosting:\", best_params_gradient_boosting)\n",
    "print(\"Mejores hiperparámetros para logistic_regression:\", best_params_logistic_regression)\n"
   ]
  },
  {
   "cell_type": "markdown",
   "metadata": {},
   "source": [
    "El código realizó una búsqueda de hiperparámetros utilizando la técnica de búsqueda aleatoria para el modelo de Gradient Boosting y Regresión Logística. Se uso el metodo aleatorio ya que es mas eficiente computacionalmente. Se exploraron diferentes combinaciones de hiperparámetros dentro de rangos predefinidos para encontrar los que maximizan la precisión del modelo en datos no vistos. Los resultados muestran los mejores conjuntos de hiperparámetros encontrados para cada modelo."
   ]
  },
  {
   "cell_type": "markdown",
   "metadata": {},
   "source": [
    "En esta etapa usaremos los hiperparametros obtenidos en el paso anterior, para hacer un ajuste fino de los modelos `Gradient Boosting` y `Logistic Regression`; posteriormente volveremos a hacer una validacion cruzada para comparar si obtuvimos mejoras en la precisión vs cuando usamos los hiperparametros por defecto."
   ]
  },
  {
   "cell_type": "code",
   "execution_count": 32,
   "metadata": {},
   "outputs": [
    {
     "name": "stdout",
     "output_type": "stream",
     "text": [
      "Precisión de validación cruzada para Gradient Boosting: 0.8023 (+/- 0.0115)\n",
      "Precisión de validación cruzada para Regresión Logística: 0.8023 (+/- 0.0222)\n"
     ]
    }
   ],
   "source": [
    "# Configurar los modelos con los hiperparámetros óptimos\n",
    "best_gradient_boosting = GradientBoostingClassifier(n_estimators=120, min_samples_split=10, max_features='log2', max_depth=4, learning_rate=0.05)\n",
    "best_logistic_regression = LogisticRegression(tol=0.001, solver='saga', penalty='l2', max_iter=1000, class_weight=None, C=10)\n",
    "\n",
    "# Realizar la validación cruzada para Gradient Boosting\n",
    "gradient_boosting_scores = cross_val_score(best_gradient_boosting, X_train, y_train, cv=5, scoring='accuracy')\n",
    "print(\"Precisión de validación cruzada para Gradient Boosting: {:.4f} (+/- {:.4f})\".format(gradient_boosting_scores.mean(), gradient_boosting_scores.std() * 2))\n",
    "\n",
    "# Realizar la validación cruzada para Regresión Logística\n",
    "logistic_regression_scores = cross_val_score(best_logistic_regression, X_train, y_train, cv=5, scoring='accuracy')\n",
    "print(\"Precisión de validación cruzada para Regresión Logística: {:.4f} (+/- {:.4f})\".format(logistic_regression_scores.mean(), logistic_regression_scores.std() * 2))"
   ]
  },
  {
   "cell_type": "markdown",
   "metadata": {},
   "source": [
    "Comparando los resultados con los hiperparámetros por defecto y después de la búsqueda y ajuste de hiperparámetros, se observa una mejora en la precisión de validación cruzada para ambos modelos. En el caso de la Regresión Logística, la precisión aumentó ligeramente de 0.7993 a 0.8023, con un aumento notable en el intervalo de confianza de +/- 0.0067 a +/- 0.0222, lo que indica una mayor estabilidad. Para el Gradient Boosting, la precisión se mantuvo en 0.8023, con un ligero aumento en el intervalo de confianza de +/- 0.0108 a +/- 0.0115, lo que sugiere una mayor consistencia en el rendimiento. "
   ]
  },
  {
   "cell_type": "markdown",
   "metadata": {},
   "source": [
    "Con el siguiente codigo, hemos creado un ensamblaje de dos modelos buscando que al combinar las predicciones de ambos podamos mejorar el rendimiento general; el modelo de Gradient Boosting sumado al de Regresión Logística. Hemos utilizado la clase `VotingClassifier` para esta tarea y hacer predicciones mediante votación directa ('hard'). "
   ]
  },
  {
   "cell_type": "code",
   "execution_count": 33,
   "metadata": {},
   "outputs": [
    {
     "name": "stdout",
     "output_type": "stream",
     "text": [
      "Precisión del ensamblaje mediante validación cruzada: 0.8005 (+/- 0.0101)\n"
     ]
    }
   ],
   "source": [
    "# Definir los modelos base\n",
    "model_gb = GradientBoostingClassifier(n_estimators=120, min_samples_split=10, max_features='log2', max_depth=4, learning_rate=0.05)\n",
    "model_lr = LogisticRegression(tol=0.001, solver='saga', penalty='l2', max_iter=1000, class_weight=None, C=10)\n",
    "\n",
    "# Crear el ensamblaje de modelos\n",
    "ensemble_model = VotingClassifier(estimators=[\n",
    "    ('gradient_boosting', model_gb),\n",
    "    ('logistic_regression', model_lr)\n",
    "], voting='hard')\n",
    "\n",
    "# Entrenar el ensamblaje de modelos\n",
    "ensemble_model.fit(X_train, y_train)\n",
    "\n",
    "# Calcular la precisión del ensamblaje mediante validación cruzada\n",
    "ensemble_scores = cross_val_score(ensemble_model, X_train, y_train, cv=5, scoring='accuracy')\n",
    "\n",
    "# Mostrar la precisión promedio y la desviación estándar de la precisión\n",
    "print(\"Precisión del ensamblaje mediante validación cruzada: {:.4f} (+/- {:.4f})\".format(ensemble_scores.mean(), ensemble_scores.std()))"
   ]
  },
  {
   "cell_type": "markdown",
   "metadata": {},
   "source": [
    "Comparando los resultados del ensamblaje con los modelos individuales, observamos que la precisión media del ensamblaje (0.8005) se sitúa entre las precisión obtenidas por los modelos individuales: 0.8023 para Regresión Logística y 0.8023 para Gradient Boosting. Sin embargo, el intervalo de confianza del ensamblaje (±0.0101) es más estrecho que el de ambos modelos individuales, lo que sugiere que el ensamblaje tiene una menor variabilidad en el rendimiento y potencialmente una mayor robustez en la predicción."
   ]
  },
  {
   "cell_type": "markdown",
   "metadata": {},
   "source": [
    "# **7. Seleccion y prueba del modelo**\n",
    "\n",
    "---"
   ]
  },
  {
   "cell_type": "code",
   "execution_count": 34,
   "metadata": {},
   "outputs": [
    {
     "name": "stdout",
     "output_type": "stream",
     "text": [
      "Accuracy: 0.7839\n",
      "Precision: 0.6346\n",
      "Recall: 0.4412\n",
      "F1 Score: 0.5205\n",
      "Confusion Matrix:\n",
      " [[938  95]\n",
      " [209 165]]\n"
     ]
    }
   ],
   "source": [
    "# Hacer predicciones en los datos de prueba utilizando el modelo ensamblado\n",
    "y_pred = ensemble_model.predict(X_test)\n",
    "\n",
    "# Calcular diferentes métricas de evaluación\n",
    "accuracy = accuracy_score(y_test, y_pred)\n",
    "precision = precision_score(y_test, y_pred)\n",
    "recall = recall_score(y_test, y_pred)\n",
    "f1 = f1_score(y_test, y_pred)\n",
    "conf_matrix = confusion_matrix(y_test, y_pred)\n",
    "\n",
    "# Mostrar las métricas de evaluación\n",
    "print(\"Accuracy: {:.4f}\".format(accuracy))\n",
    "print(\"Precision: {:.4f}\".format(precision))\n",
    "print(\"Recall: {:.4f}\".format(recall))\n",
    "print(\"F1 Score: {:.4f}\".format(f1))\n",
    "print(\"Confusion Matrix:\\n\", conf_matrix)"
   ]
  },
  {
   "cell_type": "markdown",
   "metadata": {},
   "source": [
    "Al realizar predicciones en el conjunto de datos de prueba utilizando el modelo ensamblado y posteriormente al calcular las diferentes métricas de evaluación, entre las que se incluyen precisión, recall, F1-score y la matriz de confusión. Los resultados muestran que el modelo alcanza una precisión del 78.39%, lo que significa que el 78.39% de las predicciones son correctas. La precisión, que indica la proporción de predicciones positivas correctas sobre todas las predicciones positivas, es del 63.46%, mientras que el recall, que mide la proporción de verdaderos positivos identificados correctamente respecto a todos los casos positivos reales, es del 44.12%. El puntaje F1, que es la media armónica entre precisión y recall, es del 52.05%. La matriz de confusión muestra que hay 938 verdaderos negativos, 95 falsos positivos, 209 falsos negativos y 165 verdaderos positivos. Estos resultados proporcionan una visión general del rendimiento del modelo en la clasificación de las clases positivas y negativas.El rendimiento actual parece ser aceptable pero podría ser mejor."
   ]
  },
  {
   "cell_type": "code",
   "execution_count": 40,
   "metadata": {},
   "outputs": [
    {
     "data": {
      "image/png": "[encoded data removed]",
      "text/plain": [
       "<Figure size 800x600 with 1 Axes>"
      ]
     },
     "metadata": {},
     "output_type": "display_data"
    }
   ],
   "source": [
    "# Cambiar el tipo de votación a suave ('soft')\n",
    "ensemble_model.voting = 'soft'\n",
    "\n",
    "# Calcular las probabilidades de predicción para las clases\n",
    "y_pred_proba = ensemble_model.predict_proba(X_test)\n",
    "\n",
    "# Calcular la tasa de falsos positivos, la tasa de verdaderos positivos y el umbral utilizando las probabilidades de predicción\n",
    "fpr, tpr, thresholds = roc_curve(y_test, y_pred_proba[:, 1])\n",
    "\n",
    "# Calcular el área bajo la curva ROC (AUC)\n",
    "roc_auc = auc(fpr, tpr)\n",
    "\n",
    "# Graficar la curva ROC\n",
    "plt.figure(figsize=(8, 6))\n",
    "plt.plot(fpr, tpr, color='darkorange', lw=2, label='Curva ROC (AUC = %0.2f)' % roc_auc)\n",
    "plt.plot([0, 1], [0, 1], color='navy', lw=2, linestyle='--')\n",
    "plt.xlim([0.0, 1.0])\n",
    "plt.ylim([0.0, 1.05])\n",
    "plt.xlabel('Tasa de Falsos Positivos')\n",
    "plt.ylabel('Tasa de Verdaderos Positivos')\n",
    "plt.title('Curva ROC')\n",
    "plt.legend(loc=\"lower right\")\n",
    "plt.show()\n"
   ]
  },
  {
   "cell_type": "markdown",
   "metadata": {},
   "source": [
    "Basándonos en los resultados proporcionados, podemos decir sobre el rendimiento general del modelo lo siguiente:\n",
    "\n",
    "AUC Score: El valor del área bajo la curva ROC (AUC) es de 0.83, lo cual indica que el modelo tiene una buena capacidad para distinguir entre clases positivas y negativas. Un AUC de 1.0 sería perfecto, mientras que 0.5 indicaría un rendimiento aleatorio.\n",
    "\n",
    "En general, el modelo parece tener un buen rendimiento, especialmente en términos de AUC y tasas de falsos positivos y verdaderos positivos."
   ]
  },
  {
   "cell_type": "markdown",
   "metadata": {},
   "source": [
    "# **8. Resumen**\n",
    "\n",
    "---"
   ]
  },
  {
   "cell_type": "markdown",
   "metadata": {},
   "source": [
    "Como resumen final;  en este proyecto se trabajó con un conjunto de datos que contiene información de clientes de una compañía de telecomunicaciones, con el objetivo de predecir la tasa de abandono. A través de un análisis exploratorio de datos, se identificaron varios factores que influyen en la tasa de abandono de los clientes, como la duración del contrato, el cargo mensual y el tipo de servicio contratado. Comenzamos limpiando los datos y analizándolos con visualizaciónes. Luego, para poder construir un modelo de aprendizaje automático, transformamos los datos categóricos en variables numéricas (ingeniería de características) y creamos nuevas columnas. Después de transformar los datos, probamos 6 algoritmos de aprendizaje automático diferentes utilizando parámetros predeterminados. Finalmente, combinamos los dos mejores modelos resultantes y ajustamos los hiperparámetros de ambos para la optimización del modelo combinado, obteniendo una precisión de casi el 80% (cerca de un 6% más que la línea de base)."
   ]
  }
 ],
 "metadata": {
  "colab": {
   "collapsed_sections": [
    "heNwjrO0-HOs",
    "Q4ZSj10y804T",
    "Vb9pwAG409UP",
    "tXzWW-VFX_sI",
    "fTwzzDcYYNZf",
    "nf1mjHoQgGe9",
    "X7J81OvycNRG",
    "uhx1_BfMilQh",
    "SaeSagortQN6",
    "458D8e2rm5tR",
    "ueGr7MGGnZsk",
    "GjRCnPYro_a4",
    "StjAStszqu75",
    "b8tLn55QsEoQ"
   ],
   "include_colab_link": true,
   "provenance": []
  },
  "kernelspec": {
   "display_name": "Python 3 (ipykernel)",
   "language": "python",
   "name": "python3"
  },
  "language_info": {
   "codemirror_mode": {
    "name": "ipython",
    "version": 3
   },
   "file_extension": ".py",
   "mimetype": "text/x-python",
   "name": "python",
   "nbconvert_exporter": "python",
   "pygments_lexer": "ipython3",
   "version": "3.11.4"
  },
  "varInspector": {
   "cols": {
    "lenName": 16,
    "lenType": 16,
    "lenVar": 40
   },
   "kernels_config": {
    "python": {
     "delete_cmd_postfix": "",
     "delete_cmd_prefix": "del ",
     "library": "var_list.py",
     "varRefreshCmd": "print(var_dic_list())"
    },
    "r": {
     "delete_cmd_postfix": ") ",
     "delete_cmd_prefix": "rm(",
     "library": "var_list.r",
     "varRefreshCmd": "cat(var_dic_list()) "
    }
   },
   "types_to_exclude": [
    "module",
    "function",
    "builtin_function_or_method",
    "instance",
    "_Feature"
   ],
   "window_display": false
  }
 },
 "nbformat": 4,
 "nbformat_minor": 1
}
